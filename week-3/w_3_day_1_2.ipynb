{
  "nbformat": 4,
  "nbformat_minor": 0,
  "metadata": {
    "colab": {
      "name": "w-3-day-1.2.ipynb",
      "provenance": []
    },
    "kernelspec": {
      "name": "python3",
      "display_name": "Python 3"
    }
  },
  "cells": [
    {
      "cell_type": "code",
      "metadata": {
        "id": "VqXKeZm3JTHG"
      },
      "source": [
        "import numpy as np\r\n",
        "import pandas as pd"
      ],
      "execution_count": 1,
      "outputs": []
    },
    {
      "cell_type": "code",
      "metadata": {
        "id": "pYw6AlJvJTmG"
      },
      "source": [
        "df = pd.read_csv(\"/content/sgemm_product.csv\")"
      ],
      "execution_count": 2,
      "outputs": []
    },
    {
      "cell_type": "code",
      "metadata": {
        "colab": {
          "base_uri": "https://localhost:8080/",
          "height": 194
        },
        "id": "Zyj3YzpFJTod",
        "outputId": "968337a9-7172-4281-d14c-c258ee6235f3"
      },
      "source": [
        "df.head()"
      ],
      "execution_count": 3,
      "outputs": [
        {
          "output_type": "execute_result",
          "data": {
            "text/html": [
              "<div>\n",
              "<style scoped>\n",
              "    .dataframe tbody tr th:only-of-type {\n",
              "        vertical-align: middle;\n",
              "    }\n",
              "\n",
              "    .dataframe tbody tr th {\n",
              "        vertical-align: top;\n",
              "    }\n",
              "\n",
              "    .dataframe thead th {\n",
              "        text-align: right;\n",
              "    }\n",
              "</style>\n",
              "<table border=\"1\" class=\"dataframe\">\n",
              "  <thead>\n",
              "    <tr style=\"text-align: right;\">\n",
              "      <th></th>\n",
              "      <th>MWG</th>\n",
              "      <th>NWG</th>\n",
              "      <th>KWG</th>\n",
              "      <th>MDIMC</th>\n",
              "      <th>NDIMC</th>\n",
              "      <th>MDIMA</th>\n",
              "      <th>NDIMB</th>\n",
              "      <th>KWI</th>\n",
              "      <th>VWM</th>\n",
              "      <th>VWN</th>\n",
              "      <th>STRM</th>\n",
              "      <th>STRN</th>\n",
              "      <th>SA</th>\n",
              "      <th>SB</th>\n",
              "      <th>Run1 (ms)</th>\n",
              "      <th>Run2 (ms)</th>\n",
              "      <th>Run3 (ms)</th>\n",
              "      <th>Run4 (ms)</th>\n",
              "    </tr>\n",
              "  </thead>\n",
              "  <tbody>\n",
              "    <tr>\n",
              "      <th>0</th>\n",
              "      <td>16</td>\n",
              "      <td>16.0</td>\n",
              "      <td>16.0</td>\n",
              "      <td>8.0</td>\n",
              "      <td>8.0</td>\n",
              "      <td>8.0</td>\n",
              "      <td>8.0</td>\n",
              "      <td>2.0</td>\n",
              "      <td>1.0</td>\n",
              "      <td>1.0</td>\n",
              "      <td>0.0</td>\n",
              "      <td>0.0</td>\n",
              "      <td>0.0</td>\n",
              "      <td>0.0</td>\n",
              "      <td>115.26</td>\n",
              "      <td>115.87</td>\n",
              "      <td>118.55</td>\n",
              "      <td>115.80</td>\n",
              "    </tr>\n",
              "    <tr>\n",
              "      <th>1</th>\n",
              "      <td>16</td>\n",
              "      <td>16.0</td>\n",
              "      <td>16.0</td>\n",
              "      <td>8.0</td>\n",
              "      <td>8.0</td>\n",
              "      <td>8.0</td>\n",
              "      <td>8.0</td>\n",
              "      <td>2.0</td>\n",
              "      <td>1.0</td>\n",
              "      <td>1.0</td>\n",
              "      <td>0.0</td>\n",
              "      <td>0.0</td>\n",
              "      <td>0.0</td>\n",
              "      <td>1.0</td>\n",
              "      <td>78.13</td>\n",
              "      <td>78.25</td>\n",
              "      <td>79.25</td>\n",
              "      <td>79.19</td>\n",
              "    </tr>\n",
              "    <tr>\n",
              "      <th>2</th>\n",
              "      <td>16</td>\n",
              "      <td>16.0</td>\n",
              "      <td>16.0</td>\n",
              "      <td>8.0</td>\n",
              "      <td>8.0</td>\n",
              "      <td>8.0</td>\n",
              "      <td>8.0</td>\n",
              "      <td>2.0</td>\n",
              "      <td>1.0</td>\n",
              "      <td>1.0</td>\n",
              "      <td>0.0</td>\n",
              "      <td>0.0</td>\n",
              "      <td>1.0</td>\n",
              "      <td>0.0</td>\n",
              "      <td>79.84</td>\n",
              "      <td>80.69</td>\n",
              "      <td>80.76</td>\n",
              "      <td>80.97</td>\n",
              "    </tr>\n",
              "    <tr>\n",
              "      <th>3</th>\n",
              "      <td>16</td>\n",
              "      <td>16.0</td>\n",
              "      <td>16.0</td>\n",
              "      <td>8.0</td>\n",
              "      <td>8.0</td>\n",
              "      <td>8.0</td>\n",
              "      <td>8.0</td>\n",
              "      <td>2.0</td>\n",
              "      <td>1.0</td>\n",
              "      <td>1.0</td>\n",
              "      <td>0.0</td>\n",
              "      <td>0.0</td>\n",
              "      <td>1.0</td>\n",
              "      <td>1.0</td>\n",
              "      <td>84.32</td>\n",
              "      <td>89.90</td>\n",
              "      <td>86.75</td>\n",
              "      <td>85.58</td>\n",
              "    </tr>\n",
              "    <tr>\n",
              "      <th>4</th>\n",
              "      <td>16</td>\n",
              "      <td>16.0</td>\n",
              "      <td>16.0</td>\n",
              "      <td>8.0</td>\n",
              "      <td>8.0</td>\n",
              "      <td>8.0</td>\n",
              "      <td>8.0</td>\n",
              "      <td>2.0</td>\n",
              "      <td>1.0</td>\n",
              "      <td>1.0</td>\n",
              "      <td>0.0</td>\n",
              "      <td>1.0</td>\n",
              "      <td>0.0</td>\n",
              "      <td>0.0</td>\n",
              "      <td>115.13</td>\n",
              "      <td>121.98</td>\n",
              "      <td>122.73</td>\n",
              "      <td>114.81</td>\n",
              "    </tr>\n",
              "  </tbody>\n",
              "</table>\n",
              "</div>"
            ],
            "text/plain": [
              "   MWG   NWG   KWG  MDIMC  ...  Run1 (ms)  Run2 (ms)  Run3 (ms)  Run4 (ms)\n",
              "0   16  16.0  16.0    8.0  ...     115.26     115.87     118.55     115.80\n",
              "1   16  16.0  16.0    8.0  ...      78.13      78.25      79.25      79.19\n",
              "2   16  16.0  16.0    8.0  ...      79.84      80.69      80.76      80.97\n",
              "3   16  16.0  16.0    8.0  ...      84.32      89.90      86.75      85.58\n",
              "4   16  16.0  16.0    8.0  ...     115.13     121.98     122.73     114.81\n",
              "\n",
              "[5 rows x 18 columns]"
            ]
          },
          "metadata": {
            "tags": []
          },
          "execution_count": 3
        }
      ]
    },
    {
      "cell_type": "code",
      "metadata": {
        "colab": {
          "base_uri": "https://localhost:8080/"
        },
        "id": "iFd7EYxRJTqi",
        "outputId": "20817023-e9e8-46b9-8d81-16df05d9fa23"
      },
      "source": [
        "df.isnull().sum()"
      ],
      "execution_count": 4,
      "outputs": [
        {
          "output_type": "execute_result",
          "data": {
            "text/plain": [
              "MWG          0\n",
              "NWG          1\n",
              "KWG          1\n",
              "MDIMC        1\n",
              "NDIMC        1\n",
              "MDIMA        1\n",
              "NDIMB        1\n",
              "KWI          1\n",
              "VWM          1\n",
              "VWN          1\n",
              "STRM         1\n",
              "STRN         1\n",
              "SA           1\n",
              "SB           1\n",
              "Run1 (ms)    1\n",
              "Run2 (ms)    1\n",
              "Run3 (ms)    1\n",
              "Run4 (ms)    1\n",
              "dtype: int64"
            ]
          },
          "metadata": {
            "tags": []
          },
          "execution_count": 4
        }
      ]
    },
    {
      "cell_type": "code",
      "metadata": {
        "id": "ciuU3AH_JTsl"
      },
      "source": [
        "for col in df.columns:\r\n",
        "  df[col].fillna(df[col].mode()[0],inplace = True)"
      ],
      "execution_count": 7,
      "outputs": []
    },
    {
      "cell_type": "code",
      "metadata": {
        "colab": {
          "base_uri": "https://localhost:8080/"
        },
        "id": "Y4eDGLAXJTu-",
        "outputId": "c59cc9f8-1476-4eb4-ee0a-57f0d0adb90e"
      },
      "source": [
        "df.isnull().sum()"
      ],
      "execution_count": 8,
      "outputs": [
        {
          "output_type": "execute_result",
          "data": {
            "text/plain": [
              "MWG          0\n",
              "NWG          0\n",
              "KWG          0\n",
              "MDIMC        0\n",
              "NDIMC        0\n",
              "MDIMA        0\n",
              "NDIMB        0\n",
              "KWI          0\n",
              "VWM          0\n",
              "VWN          0\n",
              "STRM         0\n",
              "STRN         0\n",
              "SA           0\n",
              "SB           0\n",
              "Run1 (ms)    0\n",
              "Run2 (ms)    0\n",
              "Run3 (ms)    0\n",
              "Run4 (ms)    0\n",
              "dtype: int64"
            ]
          },
          "metadata": {
            "tags": []
          },
          "execution_count": 8
        }
      ]
    },
    {
      "cell_type": "code",
      "metadata": {
        "id": "mmNdPzNaJTxq"
      },
      "source": [
        "df[\"mean-run\"]=df[\"Run1 (ms)\"]+df[\"Run2 (ms)\"]+df[\"Run3 (ms)\"]+df[\"Run4 (ms)\"]"
      ],
      "execution_count": 12,
      "outputs": []
    },
    {
      "cell_type": "code",
      "metadata": {
        "colab": {
          "base_uri": "https://localhost:8080/",
          "height": 194
        },
        "id": "15-D_BjKLNy5",
        "outputId": "873bfed7-537a-4f08-eae1-8baad2909cbf"
      },
      "source": [
        "df.head()"
      ],
      "execution_count": 13,
      "outputs": [
        {
          "output_type": "execute_result",
          "data": {
            "text/html": [
              "<div>\n",
              "<style scoped>\n",
              "    .dataframe tbody tr th:only-of-type {\n",
              "        vertical-align: middle;\n",
              "    }\n",
              "\n",
              "    .dataframe tbody tr th {\n",
              "        vertical-align: top;\n",
              "    }\n",
              "\n",
              "    .dataframe thead th {\n",
              "        text-align: right;\n",
              "    }\n",
              "</style>\n",
              "<table border=\"1\" class=\"dataframe\">\n",
              "  <thead>\n",
              "    <tr style=\"text-align: right;\">\n",
              "      <th></th>\n",
              "      <th>MWG</th>\n",
              "      <th>NWG</th>\n",
              "      <th>KWG</th>\n",
              "      <th>MDIMC</th>\n",
              "      <th>NDIMC</th>\n",
              "      <th>MDIMA</th>\n",
              "      <th>NDIMB</th>\n",
              "      <th>KWI</th>\n",
              "      <th>VWM</th>\n",
              "      <th>VWN</th>\n",
              "      <th>STRM</th>\n",
              "      <th>STRN</th>\n",
              "      <th>SA</th>\n",
              "      <th>SB</th>\n",
              "      <th>Run1 (ms)</th>\n",
              "      <th>Run2 (ms)</th>\n",
              "      <th>Run3 (ms)</th>\n",
              "      <th>Run4 (ms)</th>\n",
              "      <th>mean-run</th>\n",
              "    </tr>\n",
              "  </thead>\n",
              "  <tbody>\n",
              "    <tr>\n",
              "      <th>0</th>\n",
              "      <td>16</td>\n",
              "      <td>16.0</td>\n",
              "      <td>16.0</td>\n",
              "      <td>8.0</td>\n",
              "      <td>8.0</td>\n",
              "      <td>8.0</td>\n",
              "      <td>8.0</td>\n",
              "      <td>2.0</td>\n",
              "      <td>1.0</td>\n",
              "      <td>1.0</td>\n",
              "      <td>0.0</td>\n",
              "      <td>0.0</td>\n",
              "      <td>0.0</td>\n",
              "      <td>0.0</td>\n",
              "      <td>115.26</td>\n",
              "      <td>115.87</td>\n",
              "      <td>118.55</td>\n",
              "      <td>115.80</td>\n",
              "      <td>465.48</td>\n",
              "    </tr>\n",
              "    <tr>\n",
              "      <th>1</th>\n",
              "      <td>16</td>\n",
              "      <td>16.0</td>\n",
              "      <td>16.0</td>\n",
              "      <td>8.0</td>\n",
              "      <td>8.0</td>\n",
              "      <td>8.0</td>\n",
              "      <td>8.0</td>\n",
              "      <td>2.0</td>\n",
              "      <td>1.0</td>\n",
              "      <td>1.0</td>\n",
              "      <td>0.0</td>\n",
              "      <td>0.0</td>\n",
              "      <td>0.0</td>\n",
              "      <td>1.0</td>\n",
              "      <td>78.13</td>\n",
              "      <td>78.25</td>\n",
              "      <td>79.25</td>\n",
              "      <td>79.19</td>\n",
              "      <td>314.82</td>\n",
              "    </tr>\n",
              "    <tr>\n",
              "      <th>2</th>\n",
              "      <td>16</td>\n",
              "      <td>16.0</td>\n",
              "      <td>16.0</td>\n",
              "      <td>8.0</td>\n",
              "      <td>8.0</td>\n",
              "      <td>8.0</td>\n",
              "      <td>8.0</td>\n",
              "      <td>2.0</td>\n",
              "      <td>1.0</td>\n",
              "      <td>1.0</td>\n",
              "      <td>0.0</td>\n",
              "      <td>0.0</td>\n",
              "      <td>1.0</td>\n",
              "      <td>0.0</td>\n",
              "      <td>79.84</td>\n",
              "      <td>80.69</td>\n",
              "      <td>80.76</td>\n",
              "      <td>80.97</td>\n",
              "      <td>322.26</td>\n",
              "    </tr>\n",
              "    <tr>\n",
              "      <th>3</th>\n",
              "      <td>16</td>\n",
              "      <td>16.0</td>\n",
              "      <td>16.0</td>\n",
              "      <td>8.0</td>\n",
              "      <td>8.0</td>\n",
              "      <td>8.0</td>\n",
              "      <td>8.0</td>\n",
              "      <td>2.0</td>\n",
              "      <td>1.0</td>\n",
              "      <td>1.0</td>\n",
              "      <td>0.0</td>\n",
              "      <td>0.0</td>\n",
              "      <td>1.0</td>\n",
              "      <td>1.0</td>\n",
              "      <td>84.32</td>\n",
              "      <td>89.90</td>\n",
              "      <td>86.75</td>\n",
              "      <td>85.58</td>\n",
              "      <td>346.55</td>\n",
              "    </tr>\n",
              "    <tr>\n",
              "      <th>4</th>\n",
              "      <td>16</td>\n",
              "      <td>16.0</td>\n",
              "      <td>16.0</td>\n",
              "      <td>8.0</td>\n",
              "      <td>8.0</td>\n",
              "      <td>8.0</td>\n",
              "      <td>8.0</td>\n",
              "      <td>2.0</td>\n",
              "      <td>1.0</td>\n",
              "      <td>1.0</td>\n",
              "      <td>0.0</td>\n",
              "      <td>1.0</td>\n",
              "      <td>0.0</td>\n",
              "      <td>0.0</td>\n",
              "      <td>115.13</td>\n",
              "      <td>121.98</td>\n",
              "      <td>122.73</td>\n",
              "      <td>114.81</td>\n",
              "      <td>474.65</td>\n",
              "    </tr>\n",
              "  </tbody>\n",
              "</table>\n",
              "</div>"
            ],
            "text/plain": [
              "   MWG   NWG   KWG  MDIMC  ...  Run2 (ms)  Run3 (ms)  Run4 (ms)  mean-run\n",
              "0   16  16.0  16.0    8.0  ...     115.87     118.55     115.80    465.48\n",
              "1   16  16.0  16.0    8.0  ...      78.25      79.25      79.19    314.82\n",
              "2   16  16.0  16.0    8.0  ...      80.69      80.76      80.97    322.26\n",
              "3   16  16.0  16.0    8.0  ...      89.90      86.75      85.58    346.55\n",
              "4   16  16.0  16.0    8.0  ...     121.98     122.73     114.81    474.65\n",
              "\n",
              "[5 rows x 19 columns]"
            ]
          },
          "metadata": {
            "tags": []
          },
          "execution_count": 13
        }
      ]
    },
    {
      "cell_type": "code",
      "metadata": {
        "id": "Nse4tVImLN09"
      },
      "source": [
        "df[\"mean-run\"] = df[\"mean-run\"]/4"
      ],
      "execution_count": 14,
      "outputs": []
    },
    {
      "cell_type": "code",
      "metadata": {
        "id": "GauPSlG6MyFn"
      },
      "source": [
        "df[\"mean-run\"] = np.log10(df[\"mean-run\"])"
      ],
      "execution_count": 18,
      "outputs": []
    },
    {
      "cell_type": "code",
      "metadata": {
        "colab": {
          "base_uri": "https://localhost:8080/",
          "height": 194
        },
        "id": "UwM-mZ4RLN40",
        "outputId": "5904a04a-21aa-408a-8331-19758f2e8d91"
      },
      "source": [
        "df.head()"
      ],
      "execution_count": 19,
      "outputs": [
        {
          "output_type": "execute_result",
          "data": {
            "text/html": [
              "<div>\n",
              "<style scoped>\n",
              "    .dataframe tbody tr th:only-of-type {\n",
              "        vertical-align: middle;\n",
              "    }\n",
              "\n",
              "    .dataframe tbody tr th {\n",
              "        vertical-align: top;\n",
              "    }\n",
              "\n",
              "    .dataframe thead th {\n",
              "        text-align: right;\n",
              "    }\n",
              "</style>\n",
              "<table border=\"1\" class=\"dataframe\">\n",
              "  <thead>\n",
              "    <tr style=\"text-align: right;\">\n",
              "      <th></th>\n",
              "      <th>MWG</th>\n",
              "      <th>NWG</th>\n",
              "      <th>KWG</th>\n",
              "      <th>MDIMC</th>\n",
              "      <th>NDIMC</th>\n",
              "      <th>MDIMA</th>\n",
              "      <th>NDIMB</th>\n",
              "      <th>KWI</th>\n",
              "      <th>VWM</th>\n",
              "      <th>VWN</th>\n",
              "      <th>STRM</th>\n",
              "      <th>STRN</th>\n",
              "      <th>SA</th>\n",
              "      <th>SB</th>\n",
              "      <th>Run1 (ms)</th>\n",
              "      <th>Run2 (ms)</th>\n",
              "      <th>Run3 (ms)</th>\n",
              "      <th>Run4 (ms)</th>\n",
              "      <th>mean-run</th>\n",
              "    </tr>\n",
              "  </thead>\n",
              "  <tbody>\n",
              "    <tr>\n",
              "      <th>0</th>\n",
              "      <td>16</td>\n",
              "      <td>16.0</td>\n",
              "      <td>16.0</td>\n",
              "      <td>8.0</td>\n",
              "      <td>8.0</td>\n",
              "      <td>8.0</td>\n",
              "      <td>8.0</td>\n",
              "      <td>2.0</td>\n",
              "      <td>1.0</td>\n",
              "      <td>1.0</td>\n",
              "      <td>0.0</td>\n",
              "      <td>0.0</td>\n",
              "      <td>0.0</td>\n",
              "      <td>0.0</td>\n",
              "      <td>115.26</td>\n",
              "      <td>115.87</td>\n",
              "      <td>118.55</td>\n",
              "      <td>115.80</td>\n",
              "      <td>2.065841</td>\n",
              "    </tr>\n",
              "    <tr>\n",
              "      <th>1</th>\n",
              "      <td>16</td>\n",
              "      <td>16.0</td>\n",
              "      <td>16.0</td>\n",
              "      <td>8.0</td>\n",
              "      <td>8.0</td>\n",
              "      <td>8.0</td>\n",
              "      <td>8.0</td>\n",
              "      <td>2.0</td>\n",
              "      <td>1.0</td>\n",
              "      <td>1.0</td>\n",
              "      <td>0.0</td>\n",
              "      <td>0.0</td>\n",
              "      <td>0.0</td>\n",
              "      <td>1.0</td>\n",
              "      <td>78.13</td>\n",
              "      <td>78.25</td>\n",
              "      <td>79.25</td>\n",
              "      <td>79.19</td>\n",
              "      <td>1.896002</td>\n",
              "    </tr>\n",
              "    <tr>\n",
              "      <th>2</th>\n",
              "      <td>16</td>\n",
              "      <td>16.0</td>\n",
              "      <td>16.0</td>\n",
              "      <td>8.0</td>\n",
              "      <td>8.0</td>\n",
              "      <td>8.0</td>\n",
              "      <td>8.0</td>\n",
              "      <td>2.0</td>\n",
              "      <td>1.0</td>\n",
              "      <td>1.0</td>\n",
              "      <td>0.0</td>\n",
              "      <td>0.0</td>\n",
              "      <td>1.0</td>\n",
              "      <td>0.0</td>\n",
              "      <td>79.84</td>\n",
              "      <td>80.69</td>\n",
              "      <td>80.76</td>\n",
              "      <td>80.97</td>\n",
              "      <td>1.906146</td>\n",
              "    </tr>\n",
              "    <tr>\n",
              "      <th>3</th>\n",
              "      <td>16</td>\n",
              "      <td>16.0</td>\n",
              "      <td>16.0</td>\n",
              "      <td>8.0</td>\n",
              "      <td>8.0</td>\n",
              "      <td>8.0</td>\n",
              "      <td>8.0</td>\n",
              "      <td>2.0</td>\n",
              "      <td>1.0</td>\n",
              "      <td>1.0</td>\n",
              "      <td>0.0</td>\n",
              "      <td>0.0</td>\n",
              "      <td>1.0</td>\n",
              "      <td>1.0</td>\n",
              "      <td>84.32</td>\n",
              "      <td>89.90</td>\n",
              "      <td>86.75</td>\n",
              "      <td>85.58</td>\n",
              "      <td>1.937706</td>\n",
              "    </tr>\n",
              "    <tr>\n",
              "      <th>4</th>\n",
              "      <td>16</td>\n",
              "      <td>16.0</td>\n",
              "      <td>16.0</td>\n",
              "      <td>8.0</td>\n",
              "      <td>8.0</td>\n",
              "      <td>8.0</td>\n",
              "      <td>8.0</td>\n",
              "      <td>2.0</td>\n",
              "      <td>1.0</td>\n",
              "      <td>1.0</td>\n",
              "      <td>0.0</td>\n",
              "      <td>1.0</td>\n",
              "      <td>0.0</td>\n",
              "      <td>0.0</td>\n",
              "      <td>115.13</td>\n",
              "      <td>121.98</td>\n",
              "      <td>122.73</td>\n",
              "      <td>114.81</td>\n",
              "      <td>2.074313</td>\n",
              "    </tr>\n",
              "  </tbody>\n",
              "</table>\n",
              "</div>"
            ],
            "text/plain": [
              "   MWG   NWG   KWG  MDIMC  ...  Run2 (ms)  Run3 (ms)  Run4 (ms)  mean-run\n",
              "0   16  16.0  16.0    8.0  ...     115.87     118.55     115.80  2.065841\n",
              "1   16  16.0  16.0    8.0  ...      78.25      79.25      79.19  1.896002\n",
              "2   16  16.0  16.0    8.0  ...      80.69      80.76      80.97  1.906146\n",
              "3   16  16.0  16.0    8.0  ...      89.90      86.75      85.58  1.937706\n",
              "4   16  16.0  16.0    8.0  ...     121.98     122.73     114.81  2.074313\n",
              "\n",
              "[5 rows x 19 columns]"
            ]
          },
          "metadata": {
            "tags": []
          },
          "execution_count": 19
        }
      ]
    },
    {
      "cell_type": "code",
      "metadata": {
        "id": "7JdKlQaGJT0R"
      },
      "source": [
        "globalmean = df[\"mean-run\"].mean()"
      ],
      "execution_count": 20,
      "outputs": []
    },
    {
      "cell_type": "code",
      "metadata": {
        "colab": {
          "base_uri": "https://localhost:8080/"
        },
        "id": "ByZ5ekbcJT2_",
        "outputId": "f04f5620-5973-4505-a82a-a25025d9315d"
      },
      "source": [
        "globalmean"
      ],
      "execution_count": 21,
      "outputs": [
        {
          "output_type": "execute_result",
          "data": {
            "text/plain": [
              "1.7480754221943244"
            ]
          },
          "metadata": {
            "tags": []
          },
          "execution_count": 21
        }
      ]
    },
    {
      "cell_type": "code",
      "metadata": {
        "id": "1EfQhufPJT5X"
      },
      "source": [
        "df['labels'] = [1 if x >= globalmean  else 0 for x in df['mean-run']] "
      ],
      "execution_count": 22,
      "outputs": []
    },
    {
      "cell_type": "code",
      "metadata": {
        "colab": {
          "base_uri": "https://localhost:8080/",
          "height": 194
        },
        "id": "DrA65uzyM4lZ",
        "outputId": "debc1110-c0db-4b5e-c84e-86c531bf178b"
      },
      "source": [
        "df.head()"
      ],
      "execution_count": 23,
      "outputs": [
        {
          "output_type": "execute_result",
          "data": {
            "text/html": [
              "<div>\n",
              "<style scoped>\n",
              "    .dataframe tbody tr th:only-of-type {\n",
              "        vertical-align: middle;\n",
              "    }\n",
              "\n",
              "    .dataframe tbody tr th {\n",
              "        vertical-align: top;\n",
              "    }\n",
              "\n",
              "    .dataframe thead th {\n",
              "        text-align: right;\n",
              "    }\n",
              "</style>\n",
              "<table border=\"1\" class=\"dataframe\">\n",
              "  <thead>\n",
              "    <tr style=\"text-align: right;\">\n",
              "      <th></th>\n",
              "      <th>MWG</th>\n",
              "      <th>NWG</th>\n",
              "      <th>KWG</th>\n",
              "      <th>MDIMC</th>\n",
              "      <th>NDIMC</th>\n",
              "      <th>MDIMA</th>\n",
              "      <th>NDIMB</th>\n",
              "      <th>KWI</th>\n",
              "      <th>VWM</th>\n",
              "      <th>VWN</th>\n",
              "      <th>STRM</th>\n",
              "      <th>STRN</th>\n",
              "      <th>SA</th>\n",
              "      <th>SB</th>\n",
              "      <th>Run1 (ms)</th>\n",
              "      <th>Run2 (ms)</th>\n",
              "      <th>Run3 (ms)</th>\n",
              "      <th>Run4 (ms)</th>\n",
              "      <th>mean-run</th>\n",
              "      <th>labels</th>\n",
              "    </tr>\n",
              "  </thead>\n",
              "  <tbody>\n",
              "    <tr>\n",
              "      <th>0</th>\n",
              "      <td>16</td>\n",
              "      <td>16.0</td>\n",
              "      <td>16.0</td>\n",
              "      <td>8.0</td>\n",
              "      <td>8.0</td>\n",
              "      <td>8.0</td>\n",
              "      <td>8.0</td>\n",
              "      <td>2.0</td>\n",
              "      <td>1.0</td>\n",
              "      <td>1.0</td>\n",
              "      <td>0.0</td>\n",
              "      <td>0.0</td>\n",
              "      <td>0.0</td>\n",
              "      <td>0.0</td>\n",
              "      <td>115.26</td>\n",
              "      <td>115.87</td>\n",
              "      <td>118.55</td>\n",
              "      <td>115.80</td>\n",
              "      <td>2.065841</td>\n",
              "      <td>1</td>\n",
              "    </tr>\n",
              "    <tr>\n",
              "      <th>1</th>\n",
              "      <td>16</td>\n",
              "      <td>16.0</td>\n",
              "      <td>16.0</td>\n",
              "      <td>8.0</td>\n",
              "      <td>8.0</td>\n",
              "      <td>8.0</td>\n",
              "      <td>8.0</td>\n",
              "      <td>2.0</td>\n",
              "      <td>1.0</td>\n",
              "      <td>1.0</td>\n",
              "      <td>0.0</td>\n",
              "      <td>0.0</td>\n",
              "      <td>0.0</td>\n",
              "      <td>1.0</td>\n",
              "      <td>78.13</td>\n",
              "      <td>78.25</td>\n",
              "      <td>79.25</td>\n",
              "      <td>79.19</td>\n",
              "      <td>1.896002</td>\n",
              "      <td>1</td>\n",
              "    </tr>\n",
              "    <tr>\n",
              "      <th>2</th>\n",
              "      <td>16</td>\n",
              "      <td>16.0</td>\n",
              "      <td>16.0</td>\n",
              "      <td>8.0</td>\n",
              "      <td>8.0</td>\n",
              "      <td>8.0</td>\n",
              "      <td>8.0</td>\n",
              "      <td>2.0</td>\n",
              "      <td>1.0</td>\n",
              "      <td>1.0</td>\n",
              "      <td>0.0</td>\n",
              "      <td>0.0</td>\n",
              "      <td>1.0</td>\n",
              "      <td>0.0</td>\n",
              "      <td>79.84</td>\n",
              "      <td>80.69</td>\n",
              "      <td>80.76</td>\n",
              "      <td>80.97</td>\n",
              "      <td>1.906146</td>\n",
              "      <td>1</td>\n",
              "    </tr>\n",
              "    <tr>\n",
              "      <th>3</th>\n",
              "      <td>16</td>\n",
              "      <td>16.0</td>\n",
              "      <td>16.0</td>\n",
              "      <td>8.0</td>\n",
              "      <td>8.0</td>\n",
              "      <td>8.0</td>\n",
              "      <td>8.0</td>\n",
              "      <td>2.0</td>\n",
              "      <td>1.0</td>\n",
              "      <td>1.0</td>\n",
              "      <td>0.0</td>\n",
              "      <td>0.0</td>\n",
              "      <td>1.0</td>\n",
              "      <td>1.0</td>\n",
              "      <td>84.32</td>\n",
              "      <td>89.90</td>\n",
              "      <td>86.75</td>\n",
              "      <td>85.58</td>\n",
              "      <td>1.937706</td>\n",
              "      <td>1</td>\n",
              "    </tr>\n",
              "    <tr>\n",
              "      <th>4</th>\n",
              "      <td>16</td>\n",
              "      <td>16.0</td>\n",
              "      <td>16.0</td>\n",
              "      <td>8.0</td>\n",
              "      <td>8.0</td>\n",
              "      <td>8.0</td>\n",
              "      <td>8.0</td>\n",
              "      <td>2.0</td>\n",
              "      <td>1.0</td>\n",
              "      <td>1.0</td>\n",
              "      <td>0.0</td>\n",
              "      <td>1.0</td>\n",
              "      <td>0.0</td>\n",
              "      <td>0.0</td>\n",
              "      <td>115.13</td>\n",
              "      <td>121.98</td>\n",
              "      <td>122.73</td>\n",
              "      <td>114.81</td>\n",
              "      <td>2.074313</td>\n",
              "      <td>1</td>\n",
              "    </tr>\n",
              "  </tbody>\n",
              "</table>\n",
              "</div>"
            ],
            "text/plain": [
              "   MWG   NWG   KWG  MDIMC  ...  Run3 (ms)  Run4 (ms)  mean-run  labels\n",
              "0   16  16.0  16.0    8.0  ...     118.55     115.80  2.065841       1\n",
              "1   16  16.0  16.0    8.0  ...      79.25      79.19  1.896002       1\n",
              "2   16  16.0  16.0    8.0  ...      80.76      80.97  1.906146       1\n",
              "3   16  16.0  16.0    8.0  ...      86.75      85.58  1.937706       1\n",
              "4   16  16.0  16.0    8.0  ...     122.73     114.81  2.074313       1\n",
              "\n",
              "[5 rows x 20 columns]"
            ]
          },
          "metadata": {
            "tags": []
          },
          "execution_count": 23
        }
      ]
    },
    {
      "cell_type": "code",
      "metadata": {
        "colab": {
          "base_uri": "https://localhost:8080/"
        },
        "id": "SoMbvWnqM4o0",
        "outputId": "1f18aeab-98c3-4872-85f0-d7364ac46842"
      },
      "source": [
        "df.labels.value_counts()"
      ],
      "execution_count": 25,
      "outputs": [
        {
          "output_type": "execute_result",
          "data": {
            "text/plain": [
              "0    41171\n",
              "1    31819\n",
              "Name: labels, dtype: int64"
            ]
          },
          "metadata": {
            "tags": []
          },
          "execution_count": 25
        }
      ]
    },
    {
      "cell_type": "code",
      "metadata": {
        "id": "EmpAdyggMcHt"
      },
      "source": [
        "df2= df.groupby(\"labels\")"
      ],
      "execution_count": 27,
      "outputs": []
    },
    {
      "cell_type": "code",
      "metadata": {
        "colab": {
          "base_uri": "https://localhost:8080/"
        },
        "id": "VolwRW2FMcKB",
        "outputId": "120676df-fa03-4f49-e924-830976d0d3ab"
      },
      "source": [
        "df2"
      ],
      "execution_count": 29,
      "outputs": [
        {
          "output_type": "execute_result",
          "data": {
            "text/plain": [
              "<pandas.core.groupby.generic.DataFrameGroupBy object at 0x7fa4d4fb4a20>"
            ]
          },
          "metadata": {
            "tags": []
          },
          "execution_count": 29
        }
      ]
    },
    {
      "cell_type": "code",
      "metadata": {
        "id": "WNQTu50WMcMW"
      },
      "source": [
        "grouped = df.groupby(['labels'])"
      ],
      "execution_count": 30,
      "outputs": []
    },
    {
      "cell_type": "code",
      "metadata": {
        "id": "UARbJdwYMcPy"
      },
      "source": [
        "grouped_MWG = grouped[\"MWG\"]"
      ],
      "execution_count": 31,
      "outputs": []
    },
    {
      "cell_type": "code",
      "metadata": {
        "colab": {
          "base_uri": "https://localhost:8080/"
        },
        "id": "O1v-_q64JT83",
        "outputId": "ac23a81a-4ef9-4c0b-9f2d-845cd0ce1f84"
      },
      "source": [
        "print(grouped_MWG)\r\n"
      ],
      "execution_count": 34,
      "outputs": [
        {
          "output_type": "stream",
          "text": [
            "<pandas.core.groupby.generic.SeriesGroupBy object at 0x7fa4d3b09198>\n"
          ],
          "name": "stdout"
        }
      ]
    },
    {
      "cell_type": "code",
      "metadata": {
        "colab": {
          "base_uri": "https://localhost:8080/"
        },
        "id": "mCGcZdwFJUAd",
        "outputId": "81503ecd-8d53-4405-e302-8df934935f37"
      },
      "source": [
        "for name, group in grouped:\r\n",
        "   print(name)\r\n",
        "   print(group)"
      ],
      "execution_count": 35,
      "outputs": [
        {
          "output_type": "stream",
          "text": [
            "0\n",
            "       MWG    NWG   KWG  MDIMC  ...  Run3 (ms)  Run4 (ms)  mean-run  labels\n",
            "50      16   16.0  16.0    8.0  ...      52.25      56.20  1.723435       0\n",
            "51      16   16.0  16.0    8.0  ...      53.45      55.33  1.727907       0\n",
            "54      16   16.0  16.0    8.0  ...      54.60      58.20  1.739731       0\n",
            "55      16   16.0  16.0    8.0  ...      54.23      55.72  1.732695       0\n",
            "58      16   16.0  16.0    8.0  ...      52.57      55.93  1.725850       0\n",
            "...    ...    ...   ...    ...  ...        ...        ...       ...     ...\n",
            "72985   64   32.0  16.0    8.0  ...      33.70      33.81  1.534343       0\n",
            "72986   64   32.0  16.0    8.0  ...      27.72      27.64  1.442009       0\n",
            "72987   64   32.0  16.0    8.0  ...      21.69      21.76  1.337659       0\n",
            "72988   64   32.0  16.0    8.0  ...      43.75      43.60  1.641623       0\n",
            "72989   64  128.0  32.0    8.0  ...      38.55      36.57  1.579097       0\n",
            "\n",
            "[41171 rows x 20 columns]\n",
            "1\n",
            "       MWG   NWG   KWG  MDIMC  ...  Run3 (ms)  Run4 (ms)  mean-run  labels\n",
            "0       16  16.0  16.0    8.0  ...     118.55     115.80  2.065841       1\n",
            "1       16  16.0  16.0    8.0  ...      79.25      79.19  1.896002       1\n",
            "2       16  16.0  16.0    8.0  ...      80.76      80.97  1.906146       1\n",
            "3       16  16.0  16.0    8.0  ...      86.75      85.58  1.937706       1\n",
            "4       16  16.0  16.0    8.0  ...     122.73     114.81  2.074313       1\n",
            "...    ...   ...   ...    ...  ...        ...        ...       ...     ...\n",
            "72932   64  32.0  16.0    8.0  ...      71.73      71.77  1.855882       1\n",
            "72933   64  32.0  16.0    8.0  ...      71.35      71.33  1.853318       1\n",
            "72945   64  32.0  16.0    8.0  ...      56.08      55.98  1.748576       1\n",
            "72961   64  32.0  16.0    8.0  ...      58.17      58.35  1.766469       1\n",
            "72965   64  32.0  16.0    8.0  ...      56.50      56.22  1.752471       1\n",
            "\n",
            "[31819 rows x 20 columns]\n"
          ],
          "name": "stdout"
        }
      ]
    },
    {
      "cell_type": "code",
      "metadata": {
        "id": "PSM3EL-GkvZI"
      },
      "source": [
        "# df2 = df.loc[:, df.columns != [\"Run4 (ms)\",\"Run2 (ms)\",\"Run1 (ms)\",\"Run3 (ms)\",\"mean-run\"]]\r\n",
        "df2= df[df.columns.difference([\"Run4 (ms)\",\"Run2 (ms)\",\"Run1 (ms)\",\"Run3 (ms)\",\"mean-run\"])]"
      ],
      "execution_count": 39,
      "outputs": []
    },
    {
      "cell_type": "code",
      "metadata": {
        "colab": {
          "base_uri": "https://localhost:8080/",
          "height": 399
        },
        "id": "YJPifxkPkvcR",
        "outputId": "983ebb32-fda4-40f4-e084-b2a87923db36"
      },
      "source": [
        "df2"
      ],
      "execution_count": 40,
      "outputs": [
        {
          "output_type": "execute_result",
          "data": {
            "text/html": [
              "<div>\n",
              "<style scoped>\n",
              "    .dataframe tbody tr th:only-of-type {\n",
              "        vertical-align: middle;\n",
              "    }\n",
              "\n",
              "    .dataframe tbody tr th {\n",
              "        vertical-align: top;\n",
              "    }\n",
              "\n",
              "    .dataframe thead th {\n",
              "        text-align: right;\n",
              "    }\n",
              "</style>\n",
              "<table border=\"1\" class=\"dataframe\">\n",
              "  <thead>\n",
              "    <tr style=\"text-align: right;\">\n",
              "      <th></th>\n",
              "      <th>KWG</th>\n",
              "      <th>KWI</th>\n",
              "      <th>MDIMA</th>\n",
              "      <th>MDIMC</th>\n",
              "      <th>MWG</th>\n",
              "      <th>NDIMB</th>\n",
              "      <th>NDIMC</th>\n",
              "      <th>NWG</th>\n",
              "      <th>SA</th>\n",
              "      <th>SB</th>\n",
              "      <th>STRM</th>\n",
              "      <th>STRN</th>\n",
              "      <th>VWM</th>\n",
              "      <th>VWN</th>\n",
              "      <th>labels</th>\n",
              "    </tr>\n",
              "  </thead>\n",
              "  <tbody>\n",
              "    <tr>\n",
              "      <th>0</th>\n",
              "      <td>16.0</td>\n",
              "      <td>2.0</td>\n",
              "      <td>8.0</td>\n",
              "      <td>8.0</td>\n",
              "      <td>16</td>\n",
              "      <td>8.0</td>\n",
              "      <td>8.0</td>\n",
              "      <td>16.0</td>\n",
              "      <td>0.0</td>\n",
              "      <td>0.0</td>\n",
              "      <td>0.0</td>\n",
              "      <td>0.0</td>\n",
              "      <td>1.0</td>\n",
              "      <td>1.0</td>\n",
              "      <td>1</td>\n",
              "    </tr>\n",
              "    <tr>\n",
              "      <th>1</th>\n",
              "      <td>16.0</td>\n",
              "      <td>2.0</td>\n",
              "      <td>8.0</td>\n",
              "      <td>8.0</td>\n",
              "      <td>16</td>\n",
              "      <td>8.0</td>\n",
              "      <td>8.0</td>\n",
              "      <td>16.0</td>\n",
              "      <td>0.0</td>\n",
              "      <td>1.0</td>\n",
              "      <td>0.0</td>\n",
              "      <td>0.0</td>\n",
              "      <td>1.0</td>\n",
              "      <td>1.0</td>\n",
              "      <td>1</td>\n",
              "    </tr>\n",
              "    <tr>\n",
              "      <th>2</th>\n",
              "      <td>16.0</td>\n",
              "      <td>2.0</td>\n",
              "      <td>8.0</td>\n",
              "      <td>8.0</td>\n",
              "      <td>16</td>\n",
              "      <td>8.0</td>\n",
              "      <td>8.0</td>\n",
              "      <td>16.0</td>\n",
              "      <td>1.0</td>\n",
              "      <td>0.0</td>\n",
              "      <td>0.0</td>\n",
              "      <td>0.0</td>\n",
              "      <td>1.0</td>\n",
              "      <td>1.0</td>\n",
              "      <td>1</td>\n",
              "    </tr>\n",
              "    <tr>\n",
              "      <th>3</th>\n",
              "      <td>16.0</td>\n",
              "      <td>2.0</td>\n",
              "      <td>8.0</td>\n",
              "      <td>8.0</td>\n",
              "      <td>16</td>\n",
              "      <td>8.0</td>\n",
              "      <td>8.0</td>\n",
              "      <td>16.0</td>\n",
              "      <td>1.0</td>\n",
              "      <td>1.0</td>\n",
              "      <td>0.0</td>\n",
              "      <td>0.0</td>\n",
              "      <td>1.0</td>\n",
              "      <td>1.0</td>\n",
              "      <td>1</td>\n",
              "    </tr>\n",
              "    <tr>\n",
              "      <th>4</th>\n",
              "      <td>16.0</td>\n",
              "      <td>2.0</td>\n",
              "      <td>8.0</td>\n",
              "      <td>8.0</td>\n",
              "      <td>16</td>\n",
              "      <td>8.0</td>\n",
              "      <td>8.0</td>\n",
              "      <td>16.0</td>\n",
              "      <td>0.0</td>\n",
              "      <td>0.0</td>\n",
              "      <td>0.0</td>\n",
              "      <td>1.0</td>\n",
              "      <td>1.0</td>\n",
              "      <td>1.0</td>\n",
              "      <td>1</td>\n",
              "    </tr>\n",
              "    <tr>\n",
              "      <th>...</th>\n",
              "      <td>...</td>\n",
              "      <td>...</td>\n",
              "      <td>...</td>\n",
              "      <td>...</td>\n",
              "      <td>...</td>\n",
              "      <td>...</td>\n",
              "      <td>...</td>\n",
              "      <td>...</td>\n",
              "      <td>...</td>\n",
              "      <td>...</td>\n",
              "      <td>...</td>\n",
              "      <td>...</td>\n",
              "      <td>...</td>\n",
              "      <td>...</td>\n",
              "      <td>...</td>\n",
              "    </tr>\n",
              "    <tr>\n",
              "      <th>72985</th>\n",
              "      <td>16.0</td>\n",
              "      <td>2.0</td>\n",
              "      <td>16.0</td>\n",
              "      <td>8.0</td>\n",
              "      <td>64</td>\n",
              "      <td>8.0</td>\n",
              "      <td>8.0</td>\n",
              "      <td>32.0</td>\n",
              "      <td>0.0</td>\n",
              "      <td>1.0</td>\n",
              "      <td>1.0</td>\n",
              "      <td>0.0</td>\n",
              "      <td>2.0</td>\n",
              "      <td>4.0</td>\n",
              "      <td>0</td>\n",
              "    </tr>\n",
              "    <tr>\n",
              "      <th>72986</th>\n",
              "      <td>16.0</td>\n",
              "      <td>2.0</td>\n",
              "      <td>16.0</td>\n",
              "      <td>8.0</td>\n",
              "      <td>64</td>\n",
              "      <td>8.0</td>\n",
              "      <td>8.0</td>\n",
              "      <td>32.0</td>\n",
              "      <td>1.0</td>\n",
              "      <td>0.0</td>\n",
              "      <td>1.0</td>\n",
              "      <td>0.0</td>\n",
              "      <td>2.0</td>\n",
              "      <td>4.0</td>\n",
              "      <td>0</td>\n",
              "    </tr>\n",
              "    <tr>\n",
              "      <th>72987</th>\n",
              "      <td>16.0</td>\n",
              "      <td>2.0</td>\n",
              "      <td>16.0</td>\n",
              "      <td>8.0</td>\n",
              "      <td>64</td>\n",
              "      <td>8.0</td>\n",
              "      <td>8.0</td>\n",
              "      <td>32.0</td>\n",
              "      <td>1.0</td>\n",
              "      <td>1.0</td>\n",
              "      <td>1.0</td>\n",
              "      <td>0.0</td>\n",
              "      <td>2.0</td>\n",
              "      <td>4.0</td>\n",
              "      <td>0</td>\n",
              "    </tr>\n",
              "    <tr>\n",
              "      <th>72988</th>\n",
              "      <td>16.0</td>\n",
              "      <td>2.0</td>\n",
              "      <td>16.0</td>\n",
              "      <td>8.0</td>\n",
              "      <td>64</td>\n",
              "      <td>8.0</td>\n",
              "      <td>8.0</td>\n",
              "      <td>32.0</td>\n",
              "      <td>0.0</td>\n",
              "      <td>0.0</td>\n",
              "      <td>1.0</td>\n",
              "      <td>1.0</td>\n",
              "      <td>2.0</td>\n",
              "      <td>4.0</td>\n",
              "      <td>0</td>\n",
              "    </tr>\n",
              "    <tr>\n",
              "      <th>72989</th>\n",
              "      <td>32.0</td>\n",
              "      <td>2.0</td>\n",
              "      <td>8.0</td>\n",
              "      <td>8.0</td>\n",
              "      <td>64</td>\n",
              "      <td>8.0</td>\n",
              "      <td>8.0</td>\n",
              "      <td>128.0</td>\n",
              "      <td>0.0</td>\n",
              "      <td>0.0</td>\n",
              "      <td>0.0</td>\n",
              "      <td>0.0</td>\n",
              "      <td>1.0</td>\n",
              "      <td>1.0</td>\n",
              "      <td>0</td>\n",
              "    </tr>\n",
              "  </tbody>\n",
              "</table>\n",
              "<p>72990 rows × 15 columns</p>\n",
              "</div>"
            ],
            "text/plain": [
              "        KWG  KWI  MDIMA  MDIMC  MWG  NDIMB  ...   SB  STRM  STRN  VWM  VWN  labels\n",
              "0      16.0  2.0    8.0    8.0   16    8.0  ...  0.0   0.0   0.0  1.0  1.0       1\n",
              "1      16.0  2.0    8.0    8.0   16    8.0  ...  1.0   0.0   0.0  1.0  1.0       1\n",
              "2      16.0  2.0    8.0    8.0   16    8.0  ...  0.0   0.0   0.0  1.0  1.0       1\n",
              "3      16.0  2.0    8.0    8.0   16    8.0  ...  1.0   0.0   0.0  1.0  1.0       1\n",
              "4      16.0  2.0    8.0    8.0   16    8.0  ...  0.0   0.0   1.0  1.0  1.0       1\n",
              "...     ...  ...    ...    ...  ...    ...  ...  ...   ...   ...  ...  ...     ...\n",
              "72985  16.0  2.0   16.0    8.0   64    8.0  ...  1.0   1.0   0.0  2.0  4.0       0\n",
              "72986  16.0  2.0   16.0    8.0   64    8.0  ...  0.0   1.0   0.0  2.0  4.0       0\n",
              "72987  16.0  2.0   16.0    8.0   64    8.0  ...  1.0   1.0   0.0  2.0  4.0       0\n",
              "72988  16.0  2.0   16.0    8.0   64    8.0  ...  0.0   1.0   1.0  2.0  4.0       0\n",
              "72989  32.0  2.0    8.0    8.0   64    8.0  ...  0.0   0.0   0.0  1.0  1.0       0\n",
              "\n",
              "[72990 rows x 15 columns]"
            ]
          },
          "metadata": {
            "tags": []
          },
          "execution_count": 40
        }
      ]
    },
    {
      "cell_type": "code",
      "metadata": {
        "id": "xXpTY5t3kveZ"
      },
      "source": [
        "df3 = df2.groupby('labels').agg(lambda x: x.tolist())"
      ],
      "execution_count": 42,
      "outputs": []
    },
    {
      "cell_type": "code",
      "metadata": {
        "colab": {
          "base_uri": "https://localhost:8080/",
          "height": 270
        },
        "id": "1VO4Y8MZkvhc",
        "outputId": "36d48e8e-c12e-416b-d9a6-4b6566dffe57"
      },
      "source": [
        "df3"
      ],
      "execution_count": 43,
      "outputs": [
        {
          "output_type": "execute_result",
          "data": {
            "text/html": [
              "<div>\n",
              "<style scoped>\n",
              "    .dataframe tbody tr th:only-of-type {\n",
              "        vertical-align: middle;\n",
              "    }\n",
              "\n",
              "    .dataframe tbody tr th {\n",
              "        vertical-align: top;\n",
              "    }\n",
              "\n",
              "    .dataframe thead th {\n",
              "        text-align: right;\n",
              "    }\n",
              "</style>\n",
              "<table border=\"1\" class=\"dataframe\">\n",
              "  <thead>\n",
              "    <tr style=\"text-align: right;\">\n",
              "      <th></th>\n",
              "      <th>KWG</th>\n",
              "      <th>KWI</th>\n",
              "      <th>MDIMA</th>\n",
              "      <th>MDIMC</th>\n",
              "      <th>MWG</th>\n",
              "      <th>NDIMB</th>\n",
              "      <th>NDIMC</th>\n",
              "      <th>NWG</th>\n",
              "      <th>SA</th>\n",
              "      <th>SB</th>\n",
              "      <th>STRM</th>\n",
              "      <th>STRN</th>\n",
              "      <th>VWM</th>\n",
              "      <th>VWN</th>\n",
              "    </tr>\n",
              "    <tr>\n",
              "      <th>labels</th>\n",
              "      <th></th>\n",
              "      <th></th>\n",
              "      <th></th>\n",
              "      <th></th>\n",
              "      <th></th>\n",
              "      <th></th>\n",
              "      <th></th>\n",
              "      <th></th>\n",
              "      <th></th>\n",
              "      <th></th>\n",
              "      <th></th>\n",
              "      <th></th>\n",
              "      <th></th>\n",
              "      <th></th>\n",
              "    </tr>\n",
              "  </thead>\n",
              "  <tbody>\n",
              "    <tr>\n",
              "      <th>0</th>\n",
              "      <td>[16.0, 16.0, 16.0, 16.0, 16.0, 16.0, 16.0, 16....</td>\n",
              "      <td>[2.0, 2.0, 2.0, 2.0, 2.0, 2.0, 2.0, 2.0, 8.0, ...</td>\n",
              "      <td>[8.0, 8.0, 8.0, 8.0, 8.0, 8.0, 8.0, 8.0, 8.0, ...</td>\n",
              "      <td>[8.0, 8.0, 8.0, 8.0, 8.0, 8.0, 8.0, 8.0, 8.0, ...</td>\n",
              "      <td>[16, 16, 16, 16, 16, 16, 16, 16, 16, 16, 16, 1...</td>\n",
              "      <td>[8.0, 8.0, 8.0, 8.0, 8.0, 8.0, 8.0, 8.0, 8.0, ...</td>\n",
              "      <td>[8.0, 8.0, 8.0, 8.0, 8.0, 8.0, 8.0, 8.0, 8.0, ...</td>\n",
              "      <td>[16.0, 16.0, 16.0, 16.0, 16.0, 16.0, 16.0, 16....</td>\n",
              "      <td>[1.0, 1.0, 1.0, 1.0, 1.0, 1.0, 1.0, 1.0, 0.0, ...</td>\n",
              "      <td>[0.0, 1.0, 0.0, 1.0, 0.0, 1.0, 0.0, 1.0, 1.0, ...</td>\n",
              "      <td>[0.0, 0.0, 0.0, 0.0, 1.0, 1.0, 1.0, 1.0, 0.0, ...</td>\n",
              "      <td>[0.0, 0.0, 1.0, 1.0, 0.0, 0.0, 1.0, 1.0, 0.0, ...</td>\n",
              "      <td>[2.0, 2.0, 2.0, 2.0, 2.0, 2.0, 2.0, 2.0, 2.0, ...</td>\n",
              "      <td>[2.0, 2.0, 2.0, 2.0, 2.0, 2.0, 2.0, 2.0, 2.0, ...</td>\n",
              "    </tr>\n",
              "    <tr>\n",
              "      <th>1</th>\n",
              "      <td>[16.0, 16.0, 16.0, 16.0, 16.0, 16.0, 16.0, 16....</td>\n",
              "      <td>[2.0, 2.0, 2.0, 2.0, 2.0, 2.0, 2.0, 2.0, 2.0, ...</td>\n",
              "      <td>[8.0, 8.0, 8.0, 8.0, 8.0, 8.0, 8.0, 8.0, 8.0, ...</td>\n",
              "      <td>[8.0, 8.0, 8.0, 8.0, 8.0, 8.0, 8.0, 8.0, 8.0, ...</td>\n",
              "      <td>[16, 16, 16, 16, 16, 16, 16, 16, 16, 16, 16, 1...</td>\n",
              "      <td>[8.0, 8.0, 8.0, 8.0, 8.0, 8.0, 8.0, 8.0, 8.0, ...</td>\n",
              "      <td>[8.0, 8.0, 8.0, 8.0, 8.0, 8.0, 8.0, 8.0, 8.0, ...</td>\n",
              "      <td>[16.0, 16.0, 16.0, 16.0, 16.0, 16.0, 16.0, 16....</td>\n",
              "      <td>[0.0, 0.0, 1.0, 1.0, 0.0, 0.0, 1.0, 1.0, 0.0, ...</td>\n",
              "      <td>[0.0, 1.0, 0.0, 1.0, 0.0, 1.0, 0.0, 1.0, 0.0, ...</td>\n",
              "      <td>[0.0, 0.0, 0.0, 0.0, 0.0, 0.0, 0.0, 0.0, 1.0, ...</td>\n",
              "      <td>[0.0, 0.0, 0.0, 0.0, 1.0, 1.0, 1.0, 1.0, 0.0, ...</td>\n",
              "      <td>[1.0, 1.0, 1.0, 1.0, 1.0, 1.0, 1.0, 1.0, 1.0, ...</td>\n",
              "      <td>[1.0, 1.0, 1.0, 1.0, 1.0, 1.0, 1.0, 1.0, 1.0, ...</td>\n",
              "    </tr>\n",
              "  </tbody>\n",
              "</table>\n",
              "</div>"
            ],
            "text/plain": [
              "                                                      KWG  ...                                                VWN\n",
              "labels                                                     ...                                                   \n",
              "0       [16.0, 16.0, 16.0, 16.0, 16.0, 16.0, 16.0, 16....  ...  [2.0, 2.0, 2.0, 2.0, 2.0, 2.0, 2.0, 2.0, 2.0, ...\n",
              "1       [16.0, 16.0, 16.0, 16.0, 16.0, 16.0, 16.0, 16....  ...  [1.0, 1.0, 1.0, 1.0, 1.0, 1.0, 1.0, 1.0, 1.0, ...\n",
              "\n",
              "[2 rows x 14 columns]"
            ]
          },
          "metadata": {
            "tags": []
          },
          "execution_count": 43
        }
      ]
    },
    {
      "cell_type": "code",
      "metadata": {
        "id": "XFYN3-_1ryPg"
      },
      "source": [
        "cols = df3.columns"
      ],
      "execution_count": 62,
      "outputs": []
    },
    {
      "cell_type": "code",
      "metadata": {
        "id": "qMJsz2pRr0f4"
      },
      "source": [
        "cols=list(cols)"
      ],
      "execution_count": 65,
      "outputs": []
    },
    {
      "cell_type": "code",
      "metadata": {
        "id": "3tVLb9n2sEMa",
        "outputId": "eff1d0b8-b2b8-498a-eb0c-84943775107f",
        "colab": {
          "base_uri": "https://localhost:8080/"
        }
      },
      "source": [
        "cols"
      ],
      "execution_count": 70,
      "outputs": [
        {
          "output_type": "execute_result",
          "data": {
            "text/plain": [
              "['KWG',\n",
              " 'KWI',\n",
              " 'MDIMA',\n",
              " 'MDIMC',\n",
              " 'MWG',\n",
              " 'NDIMB',\n",
              " 'NDIMC',\n",
              " 'NWG',\n",
              " 'SA',\n",
              " 'SB',\n",
              " 'STRM',\n",
              " 'STRN',\n",
              " 'VWM',\n",
              " 'VWN']"
            ]
          },
          "metadata": {
            "tags": []
          },
          "execution_count": 70
        }
      ]
    },
    {
      "cell_type": "code",
      "metadata": {
        "colab": {
          "base_uri": "https://localhost:8080/",
          "height": 1000
        },
        "id": "Cq4o2wWjkvkf",
        "outputId": "52c5e3c0-17b6-4da7-bd28-86a9692e44fc"
      },
      "source": [
        "import numpy as np\r\n",
        "import matplotlib.pyplot as plt\r\n",
        "\r\n",
        "for column in cols:\r\n",
        "  Y=df3[column][0]\r\n",
        "  Y2=df3[column][1]\r\n",
        "  fig = plt.figure()\r\n",
        "  ax = fig.add_axes([0,0,1,1])\r\n",
        "  \r\n",
        "  label = ['0','1']\r\n",
        "  counter = [len(Y),len(Y2)]\r\n",
        "  ax.bar(label,counter)\r\n",
        "  plt.show()"
      ],
      "execution_count": 67,
      "outputs": [
        {
          "output_type": "display_data",
          "data": {
            "image/png": "[encoded data removed]",
            "text/plain": [
              "<Figure size 432x288 with 1 Axes>"
            ]
          },
          "metadata": {
            "tags": [],
            "needs_background": "light"
          }
        },
        {
          "output_type": "display_data",
          "data": {
            "image/png": "[encoded data removed]",
            "text/plain": [
              "<Figure size 432x288 with 1 Axes>"
            ]
          },
          "metadata": {
            "tags": [],
            "needs_background": "light"
          }
        },
        {
          "output_type": "display_data",
          "data": {
            "image/png": "[encoded data removed]",
            "text/plain": [
              "<Figure size 432x288 with 1 Axes>"
            ]
          },
          "metadata": {
            "tags": [],
            "needs_background": "light"
          }
        },
        {
          "output_type": "display_data",
          "data": {
            "image/png": "[encoded data removed]",
            "text/plain": [
              "<Figure size 432x288 with 1 Axes>"
            ]
          },
          "metadata": {
            "tags": [],
            "needs_background": "light"
          }
        },
        {
          "output_type": "display_data",
          "data": {
            "image/png": "[encoded data removed]",
            "text/plain": [
              "<Figure size 432x288 with 1 Axes>"
            ]
          },
          "metadata": {
            "tags": [],
            "needs_background": "light"
          }
        },
        {
          "output_type": "display_data",
          "data": {
            "image/png": "[encoded data removed]",
            "text/plain": [
              "<Figure size 432x288 with 1 Axes>"
            ]
          },
          "metadata": {
            "tags": [],
            "needs_background": "light"
          }
        },
        {
          "output_type": "display_data",
          "data": {
            "image/png": "[encoded data removed]",
            "text/plain": [
              "<Figure size 432x288 with 1 Axes>"
            ]
          },
          "metadata": {
            "tags": [],
            "needs_background": "light"
          }
        },
        {
          "output_type": "display_data",
          "data": {
            "image/png": "[encoded data removed]",
            "text/plain": [
              "<Figure size 432x288 with 1 Axes>"
            ]
          },
          "metadata": {
            "tags": [],
            "needs_background": "light"
          }
        },
        {
          "output_type": "display_data",
          "data": {
            "image/png": "[encoded data removed]",
            "text/plain": [
              "<Figure size 432x288 with 1 Axes>"
            ]
          },
          "metadata": {
            "tags": [],
            "needs_background": "light"
          }
        },
        {
          "output_type": "display_data",
          "data": {
            "image/png": "[encoded data removed]",
            "text/plain": [
              "<Figure size 432x288 with 1 Axes>"
            ]
          },
          "metadata": {
            "tags": [],
            "needs_background": "light"
          }
        },
        {
          "output_type": "display_data",
          "data": {
            "image/png": "[encoded data removed]",
            "text/plain": [
              "<Figure size 432x288 with 1 Axes>"
            ]
          },
          "metadata": {
            "tags": [],
            "needs_background": "light"
          }
        },
        {
          "output_type": "display_data",
          "data": {
            "image/png": "[encoded data removed]",
            "text/plain": [
              "<Figure size 432x288 with 1 Axes>"
            ]
          },
          "metadata": {
            "tags": [],
            "needs_background": "light"
          }
        },
        {
          "output_type": "display_data",
          "data": {
            "image/png": "[encoded data removed]",
            "text/plain": [
              "<Figure size 432x288 with 1 Axes>"
            ]
          },
          "metadata": {
            "tags": [],
            "needs_background": "light"
          }
        },
        {
          "output_type": "display_data",
          "data": {
            "image/png": "[encoded data removed]",
            "text/plain": [
              "<Figure size 432x288 with 1 Axes>"
            ]
          },
          "metadata": {
            "tags": [],
            "needs_background": "light"
          }
        }
      ]
    },
    {
      "cell_type": "code",
      "metadata": {
        "id": "_LpBqoogqfEe"
      },
      "source": [
        "# Y = df3.values"
      ],
      "execution_count": 69,
      "outputs": []
    },
    {
      "cell_type": "code",
      "metadata": {
        "id": "PpV_qNPakvqR"
      },
      "source": [
        "# import matplotlib.pyplot as plt\r\n",
        "# fig = plt.figure()\r\n",
        "# ax = fig.add_axes([0,0,1,1])\r\n",
        "# label = ['0','1']\r\n",
        "# counter = [len(Y),len(Y2)]\r\n",
        "# ax.bar(counter,label)\r\n",
        "# plt.show()"
      ],
      "execution_count": 68,
      "outputs": []
    },
    {
      "cell_type": "code",
      "metadata": {
        "id": "Z9jrG-xskvsd"
      },
      "source": [
        ""
      ],
      "execution_count": null,
      "outputs": []
    },
    {
      "cell_type": "code",
      "metadata": {
        "id": "Cbu16K4eruW7"
      },
      "source": [
        ""
      ],
      "execution_count": null,
      "outputs": []
    },
    {
      "cell_type": "code",
      "metadata": {
        "id": "C6X0bcwkrubA"
      },
      "source": [
        ""
      ],
      "execution_count": null,
      "outputs": []
    },
    {
      "cell_type": "code",
      "metadata": {
        "id": "EXbGnqNUrucg"
      },
      "source": [
        ""
      ],
      "execution_count": null,
      "outputs": []
    },
    {
      "cell_type": "code",
      "metadata": {
        "id": "dl7neKNNrufB"
      },
      "source": [
        ""
      ],
      "execution_count": null,
      "outputs": []
    },
    {
      "cell_type": "code",
      "metadata": {
        "id": "Dt8hbQ2hruh-"
      },
      "source": [
        ""
      ],
      "execution_count": null,
      "outputs": []
    },
    {
      "cell_type": "code",
      "metadata": {
        "id": "dtgBePQwkvwN"
      },
      "source": [
        ""
      ],
      "execution_count": null,
      "outputs": []
    }
  ]
}