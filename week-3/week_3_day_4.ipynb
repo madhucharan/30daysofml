{
  "nbformat": 4,
  "nbformat_minor": 0,
  "metadata": {
    "colab": {
      "name": "week-3 day-4.ipynb",
      "provenance": []
    },
    "kernelspec": {
      "name": "python3",
      "display_name": "Python 3"
    }
  },
  "cells": [
    {
      "cell_type": "code",
      "metadata": {
        "id": "ba8LknqRGgrx"
      },
      "source": [
        "import numpy as np\r\n",
        "import pandas as pd"
      ],
      "execution_count": 1,
      "outputs": []
    },
    {
      "cell_type": "code",
      "metadata": {
        "id": "al5C3cZNGhO2"
      },
      "source": [
        "from keras.wrappers.scikit_learn import KerasRegressor\r\n",
        "from sklearn.model_selection import cross_val_score\r\n",
        "from sklearn.model_selection import KFold\r\n",
        "from sklearn.preprocessing import StandardScaler\r\n",
        "from sklearn.pipeline import Pipeline\r\n"
      ],
      "execution_count": 2,
      "outputs": []
    },
    {
      "cell_type": "code",
      "metadata": {
        "id": "l2VbZfY2GhRt"
      },
      "source": [
        "df = pd.read_csv(\"https://raw.githubusercontent.com/selva86/datasets/master/BostonHousing.csv\")"
      ],
      "execution_count": 3,
      "outputs": []
    },
    {
      "cell_type": "code",
      "metadata": {
        "colab": {
          "base_uri": "https://localhost:8080/",
          "height": 194
        },
        "id": "LweyicSKGhUU",
        "outputId": "fa43a82f-4970-4150-9acc-4f7975de78b2"
      },
      "source": [
        "df.head()"
      ],
      "execution_count": 4,
      "outputs": [
        {
          "output_type": "execute_result",
          "data": {
            "text/html": [
              "<div>\n",
              "<style scoped>\n",
              "    .dataframe tbody tr th:only-of-type {\n",
              "        vertical-align: middle;\n",
              "    }\n",
              "\n",
              "    .dataframe tbody tr th {\n",
              "        vertical-align: top;\n",
              "    }\n",
              "\n",
              "    .dataframe thead th {\n",
              "        text-align: right;\n",
              "    }\n",
              "</style>\n",
              "<table border=\"1\" class=\"dataframe\">\n",
              "  <thead>\n",
              "    <tr style=\"text-align: right;\">\n",
              "      <th></th>\n",
              "      <th>crim</th>\n",
              "      <th>zn</th>\n",
              "      <th>indus</th>\n",
              "      <th>chas</th>\n",
              "      <th>nox</th>\n",
              "      <th>rm</th>\n",
              "      <th>age</th>\n",
              "      <th>dis</th>\n",
              "      <th>rad</th>\n",
              "      <th>tax</th>\n",
              "      <th>ptratio</th>\n",
              "      <th>b</th>\n",
              "      <th>lstat</th>\n",
              "      <th>medv</th>\n",
              "    </tr>\n",
              "  </thead>\n",
              "  <tbody>\n",
              "    <tr>\n",
              "      <th>0</th>\n",
              "      <td>0.00632</td>\n",
              "      <td>18.0</td>\n",
              "      <td>2.31</td>\n",
              "      <td>0</td>\n",
              "      <td>0.538</td>\n",
              "      <td>6.575</td>\n",
              "      <td>65.2</td>\n",
              "      <td>4.0900</td>\n",
              "      <td>1</td>\n",
              "      <td>296</td>\n",
              "      <td>15.3</td>\n",
              "      <td>396.90</td>\n",
              "      <td>4.98</td>\n",
              "      <td>24.0</td>\n",
              "    </tr>\n",
              "    <tr>\n",
              "      <th>1</th>\n",
              "      <td>0.02731</td>\n",
              "      <td>0.0</td>\n",
              "      <td>7.07</td>\n",
              "      <td>0</td>\n",
              "      <td>0.469</td>\n",
              "      <td>6.421</td>\n",
              "      <td>78.9</td>\n",
              "      <td>4.9671</td>\n",
              "      <td>2</td>\n",
              "      <td>242</td>\n",
              "      <td>17.8</td>\n",
              "      <td>396.90</td>\n",
              "      <td>9.14</td>\n",
              "      <td>21.6</td>\n",
              "    </tr>\n",
              "    <tr>\n",
              "      <th>2</th>\n",
              "      <td>0.02729</td>\n",
              "      <td>0.0</td>\n",
              "      <td>7.07</td>\n",
              "      <td>0</td>\n",
              "      <td>0.469</td>\n",
              "      <td>7.185</td>\n",
              "      <td>61.1</td>\n",
              "      <td>4.9671</td>\n",
              "      <td>2</td>\n",
              "      <td>242</td>\n",
              "      <td>17.8</td>\n",
              "      <td>392.83</td>\n",
              "      <td>4.03</td>\n",
              "      <td>34.7</td>\n",
              "    </tr>\n",
              "    <tr>\n",
              "      <th>3</th>\n",
              "      <td>0.03237</td>\n",
              "      <td>0.0</td>\n",
              "      <td>2.18</td>\n",
              "      <td>0</td>\n",
              "      <td>0.458</td>\n",
              "      <td>6.998</td>\n",
              "      <td>45.8</td>\n",
              "      <td>6.0622</td>\n",
              "      <td>3</td>\n",
              "      <td>222</td>\n",
              "      <td>18.7</td>\n",
              "      <td>394.63</td>\n",
              "      <td>2.94</td>\n",
              "      <td>33.4</td>\n",
              "    </tr>\n",
              "    <tr>\n",
              "      <th>4</th>\n",
              "      <td>0.06905</td>\n",
              "      <td>0.0</td>\n",
              "      <td>2.18</td>\n",
              "      <td>0</td>\n",
              "      <td>0.458</td>\n",
              "      <td>7.147</td>\n",
              "      <td>54.2</td>\n",
              "      <td>6.0622</td>\n",
              "      <td>3</td>\n",
              "      <td>222</td>\n",
              "      <td>18.7</td>\n",
              "      <td>396.90</td>\n",
              "      <td>5.33</td>\n",
              "      <td>36.2</td>\n",
              "    </tr>\n",
              "  </tbody>\n",
              "</table>\n",
              "</div>"
            ],
            "text/plain": [
              "      crim    zn  indus  chas    nox  ...  tax  ptratio       b  lstat  medv\n",
              "0  0.00632  18.0   2.31     0  0.538  ...  296     15.3  396.90   4.98  24.0\n",
              "1  0.02731   0.0   7.07     0  0.469  ...  242     17.8  396.90   9.14  21.6\n",
              "2  0.02729   0.0   7.07     0  0.469  ...  242     17.8  392.83   4.03  34.7\n",
              "3  0.03237   0.0   2.18     0  0.458  ...  222     18.7  394.63   2.94  33.4\n",
              "4  0.06905   0.0   2.18     0  0.458  ...  222     18.7  396.90   5.33  36.2\n",
              "\n",
              "[5 rows x 14 columns]"
            ]
          },
          "metadata": {
            "tags": []
          },
          "execution_count": 4
        }
      ]
    },
    {
      "cell_type": "code",
      "metadata": {
        "id": "wLcPNwLbGhXF"
      },
      "source": [
        "from sklearn.model_selection import train_test_split"
      ],
      "execution_count": 5,
      "outputs": []
    },
    {
      "cell_type": "code",
      "metadata": {
        "id": "JE5AYD7ZGhZy"
      },
      "source": [
        "dataset = df.values\r\n",
        "X = dataset[:,0:13]\r\n",
        "Y = dataset[:,13]"
      ],
      "execution_count": 6,
      "outputs": []
    },
    {
      "cell_type": "code",
      "metadata": {
        "id": "dazSUDQrGhc5"
      },
      "source": [
        "X_train, X_test, y_train, y_test = train_test_split(\r\n",
        "    X, Y, test_size=0.3, random_state=42)"
      ],
      "execution_count": 7,
      "outputs": []
    },
    {
      "cell_type": "code",
      "metadata": {
        "id": "kWRT7NZbGhfo"
      },
      "source": [
        "from keras.models import Sequential\r\n",
        "from keras.layers import Dense"
      ],
      "execution_count": 8,
      "outputs": []
    },
    {
      "cell_type": "code",
      "metadata": {
        "id": "xuwcORp0GhiX"
      },
      "source": [
        "#Creating the neural network model\r\n",
        "import keras\r\n",
        "from keras.layers import Dense, Activation,Dropout\r\n",
        "from keras.models import Sequential\r\n",
        "optimizer = keras.optimizers.SGD(learning_rate=0.001)\r\n",
        "model = Sequential()\r\n",
        "\r\n",
        "model.add(Dense(128,activation  = 'relu',input_dim =13))\r\n",
        "model.add(Dense(64,activation  = 'relu'))\r\n",
        "model.add(Dense(32,activation  = 'relu'))\r\n",
        "model.add(Dense(1))\r\n",
        "\r\n",
        "\r\n",
        "model.compile(optimizer = 'adam',loss = 'mean_squared_error')"
      ],
      "execution_count": 25,
      "outputs": []
    },
    {
      "cell_type": "code",
      "metadata": {
        "id": "l0Wg_D0IGhlg"
      },
      "source": [
        "from sklearn.preprocessing import StandardScaler\r\n",
        "sc = StandardScaler()\r\n",
        "X_train = sc.fit_transform(X_train)\r\n",
        "X_test = sc.transform(X_test)"
      ],
      "execution_count": 26,
      "outputs": []
    },
    {
      "cell_type": "code",
      "metadata": {
        "colab": {
          "base_uri": "https://localhost:8080/"
        },
        "id": "erUlNADdGhoD",
        "outputId": "835095a9-e40a-4671-f131-0b284447947e"
      },
      "source": [
        "history = model.fit(X,Y, epochs=100, batch_size=20, verbose=1, validation_split=0.2)"
      ],
      "execution_count": 27,
      "outputs": [
        {
          "output_type": "stream",
          "text": [
            "Epoch 1/100\n",
            "21/21 [==============================] - 1s 10ms/step - loss: 153.8563 - val_loss: 37.1108\n",
            "Epoch 2/100\n",
            "21/21 [==============================] - 0s 4ms/step - loss: 90.6401 - val_loss: 161.1610\n",
            "Epoch 3/100\n",
            "21/21 [==============================] - 0s 4ms/step - loss: 97.5859 - val_loss: 66.0642\n",
            "Epoch 4/100\n",
            "21/21 [==============================] - 0s 4ms/step - loss: 78.0419 - val_loss: 64.8088\n",
            "Epoch 5/100\n",
            "21/21 [==============================] - 0s 4ms/step - loss: 69.2484 - val_loss: 75.8077\n",
            "Epoch 6/100\n",
            "21/21 [==============================] - 0s 3ms/step - loss: 69.8604 - val_loss: 58.1922\n",
            "Epoch 7/100\n",
            "21/21 [==============================] - 0s 4ms/step - loss: 61.5079 - val_loss: 197.3718\n",
            "Epoch 8/100\n",
            "21/21 [==============================] - 0s 3ms/step - loss: 80.8427 - val_loss: 118.4776\n",
            "Epoch 9/100\n",
            "21/21 [==============================] - 0s 4ms/step - loss: 52.9395 - val_loss: 196.9465\n",
            "Epoch 10/100\n",
            "21/21 [==============================] - 0s 3ms/step - loss: 57.6657 - val_loss: 241.2725\n",
            "Epoch 11/100\n",
            "21/21 [==============================] - 0s 4ms/step - loss: 53.5826 - val_loss: 86.2800\n",
            "Epoch 12/100\n",
            "21/21 [==============================] - 0s 3ms/step - loss: 56.1751 - val_loss: 240.0853\n",
            "Epoch 13/100\n",
            "21/21 [==============================] - 0s 11ms/step - loss: 56.6341 - val_loss: 141.2618\n",
            "Epoch 14/100\n",
            "21/21 [==============================] - 0s 4ms/step - loss: 46.7702 - val_loss: 318.7541\n",
            "Epoch 15/100\n",
            "21/21 [==============================] - 0s 4ms/step - loss: 56.0727 - val_loss: 57.1993\n",
            "Epoch 16/100\n",
            "21/21 [==============================] - 0s 4ms/step - loss: 44.3185 - val_loss: 43.9244\n",
            "Epoch 17/100\n",
            "21/21 [==============================] - 0s 4ms/step - loss: 43.6883 - val_loss: 96.7597\n",
            "Epoch 18/100\n",
            "21/21 [==============================] - 0s 4ms/step - loss: 47.9598 - val_loss: 50.9159\n",
            "Epoch 19/100\n",
            "21/21 [==============================] - 0s 4ms/step - loss: 42.1506 - val_loss: 132.4569\n",
            "Epoch 20/100\n",
            "21/21 [==============================] - 0s 4ms/step - loss: 37.8783 - val_loss: 72.9640\n",
            "Epoch 21/100\n",
            "21/21 [==============================] - 0s 4ms/step - loss: 46.4278 - val_loss: 61.7666\n",
            "Epoch 22/100\n",
            "21/21 [==============================] - 0s 4ms/step - loss: 51.9382 - val_loss: 62.3149\n",
            "Epoch 23/100\n",
            "21/21 [==============================] - 0s 4ms/step - loss: 39.4767 - val_loss: 82.0990\n",
            "Epoch 24/100\n",
            "21/21 [==============================] - 0s 4ms/step - loss: 34.5418 - val_loss: 34.4308\n",
            "Epoch 25/100\n",
            "21/21 [==============================] - 0s 4ms/step - loss: 38.9854 - val_loss: 32.1785\n",
            "Epoch 26/100\n",
            "21/21 [==============================] - 0s 4ms/step - loss: 35.2272 - val_loss: 77.2265\n",
            "Epoch 27/100\n",
            "21/21 [==============================] - 0s 4ms/step - loss: 29.7712 - val_loss: 71.4682\n",
            "Epoch 28/100\n",
            "21/21 [==============================] - 0s 4ms/step - loss: 56.1595 - val_loss: 43.6421\n",
            "Epoch 29/100\n",
            "21/21 [==============================] - 0s 4ms/step - loss: 39.2693 - val_loss: 45.5153\n",
            "Epoch 30/100\n",
            "21/21 [==============================] - 0s 4ms/step - loss: 35.7177 - val_loss: 84.1803\n",
            "Epoch 31/100\n",
            "21/21 [==============================] - 0s 4ms/step - loss: 32.8402 - val_loss: 65.7798\n",
            "Epoch 32/100\n",
            "21/21 [==============================] - 0s 4ms/step - loss: 29.4163 - val_loss: 40.5479\n",
            "Epoch 33/100\n",
            "21/21 [==============================] - 0s 4ms/step - loss: 36.1274 - val_loss: 64.5169\n",
            "Epoch 34/100\n",
            "21/21 [==============================] - 0s 4ms/step - loss: 26.7376 - val_loss: 62.3412\n",
            "Epoch 35/100\n",
            "21/21 [==============================] - 0s 4ms/step - loss: 35.8577 - val_loss: 111.9593\n",
            "Epoch 36/100\n",
            "21/21 [==============================] - 0s 4ms/step - loss: 29.2393 - val_loss: 164.0461\n",
            "Epoch 37/100\n",
            "21/21 [==============================] - 0s 4ms/step - loss: 28.7107 - val_loss: 110.8402\n",
            "Epoch 38/100\n",
            "21/21 [==============================] - 0s 4ms/step - loss: 25.7211 - val_loss: 110.6870\n",
            "Epoch 39/100\n",
            "21/21 [==============================] - 0s 4ms/step - loss: 32.8242 - val_loss: 42.3866\n",
            "Epoch 40/100\n",
            "21/21 [==============================] - 0s 4ms/step - loss: 29.0381 - val_loss: 31.1019\n",
            "Epoch 41/100\n",
            "21/21 [==============================] - 0s 4ms/step - loss: 24.2372 - val_loss: 145.2386\n",
            "Epoch 42/100\n",
            "21/21 [==============================] - 0s 4ms/step - loss: 31.1938 - val_loss: 50.3488\n",
            "Epoch 43/100\n",
            "21/21 [==============================] - 0s 4ms/step - loss: 30.4228 - val_loss: 62.8002\n",
            "Epoch 44/100\n",
            "21/21 [==============================] - 0s 4ms/step - loss: 44.2623 - val_loss: 46.4697\n",
            "Epoch 45/100\n",
            "21/21 [==============================] - 0s 4ms/step - loss: 27.9494 - val_loss: 73.0978\n",
            "Epoch 46/100\n",
            "21/21 [==============================] - 0s 4ms/step - loss: 21.6341 - val_loss: 85.9234\n",
            "Epoch 47/100\n",
            "21/21 [==============================] - 0s 4ms/step - loss: 28.3150 - val_loss: 86.0543\n",
            "Epoch 48/100\n",
            "21/21 [==============================] - 0s 4ms/step - loss: 20.6161 - val_loss: 101.3513\n",
            "Epoch 49/100\n",
            "21/21 [==============================] - 0s 4ms/step - loss: 30.1201 - val_loss: 78.2271\n",
            "Epoch 50/100\n",
            "21/21 [==============================] - 0s 4ms/step - loss: 25.3573 - val_loss: 97.3109\n",
            "Epoch 51/100\n",
            "21/21 [==============================] - 0s 4ms/step - loss: 26.7048 - val_loss: 34.1746\n",
            "Epoch 52/100\n",
            "21/21 [==============================] - 0s 4ms/step - loss: 26.0386 - val_loss: 64.4235\n",
            "Epoch 53/100\n",
            "21/21 [==============================] - 0s 4ms/step - loss: 20.8925 - val_loss: 86.2620\n",
            "Epoch 54/100\n",
            "21/21 [==============================] - 0s 4ms/step - loss: 21.5928 - val_loss: 51.5901\n",
            "Epoch 55/100\n",
            "21/21 [==============================] - 0s 4ms/step - loss: 18.2785 - val_loss: 51.5489\n",
            "Epoch 56/100\n",
            "21/21 [==============================] - 0s 4ms/step - loss: 22.8502 - val_loss: 37.4645\n",
            "Epoch 57/100\n",
            "21/21 [==============================] - 0s 4ms/step - loss: 19.9575 - val_loss: 59.8584\n",
            "Epoch 58/100\n",
            "21/21 [==============================] - 0s 4ms/step - loss: 22.3368 - val_loss: 60.5363\n",
            "Epoch 59/100\n",
            "21/21 [==============================] - 0s 4ms/step - loss: 21.3375 - val_loss: 58.0012\n",
            "Epoch 60/100\n",
            "21/21 [==============================] - 0s 4ms/step - loss: 18.0450 - val_loss: 49.7536\n",
            "Epoch 61/100\n",
            "21/21 [==============================] - 0s 4ms/step - loss: 24.0803 - val_loss: 47.0741\n",
            "Epoch 62/100\n",
            "21/21 [==============================] - 0s 4ms/step - loss: 22.4284 - val_loss: 38.3064\n",
            "Epoch 63/100\n",
            "21/21 [==============================] - 0s 4ms/step - loss: 29.0966 - val_loss: 36.1202\n",
            "Epoch 64/100\n",
            "21/21 [==============================] - 0s 4ms/step - loss: 30.6926 - val_loss: 51.0440\n",
            "Epoch 65/100\n",
            "21/21 [==============================] - 0s 4ms/step - loss: 25.6682 - val_loss: 45.7591\n",
            "Epoch 66/100\n",
            "21/21 [==============================] - 0s 4ms/step - loss: 20.7013 - val_loss: 77.3241\n",
            "Epoch 67/100\n",
            "21/21 [==============================] - 0s 4ms/step - loss: 19.6752 - val_loss: 159.6112\n",
            "Epoch 68/100\n",
            "21/21 [==============================] - 0s 4ms/step - loss: 30.1936 - val_loss: 77.2397\n",
            "Epoch 69/100\n",
            "21/21 [==============================] - 0s 11ms/step - loss: 18.9102 - val_loss: 46.6242\n",
            "Epoch 70/100\n",
            "21/21 [==============================] - 0s 4ms/step - loss: 30.8717 - val_loss: 43.2870\n",
            "Epoch 71/100\n",
            "21/21 [==============================] - 0s 4ms/step - loss: 27.8871 - val_loss: 41.9744\n",
            "Epoch 72/100\n",
            "21/21 [==============================] - 0s 4ms/step - loss: 22.5388 - val_loss: 34.0823\n",
            "Epoch 73/100\n",
            "21/21 [==============================] - 0s 4ms/step - loss: 29.7405 - val_loss: 38.8518\n",
            "Epoch 74/100\n",
            "21/21 [==============================] - 0s 4ms/step - loss: 18.2277 - val_loss: 37.0508\n",
            "Epoch 75/100\n",
            "21/21 [==============================] - 0s 4ms/step - loss: 25.4292 - val_loss: 77.4901\n",
            "Epoch 76/100\n",
            "21/21 [==============================] - 0s 4ms/step - loss: 36.5106 - val_loss: 101.0812\n",
            "Epoch 77/100\n",
            "21/21 [==============================] - 0s 4ms/step - loss: 25.1841 - val_loss: 62.0567\n",
            "Epoch 78/100\n",
            "21/21 [==============================] - 0s 4ms/step - loss: 23.7246 - val_loss: 65.4025\n",
            "Epoch 79/100\n",
            "21/21 [==============================] - 0s 4ms/step - loss: 19.6951 - val_loss: 64.3429\n",
            "Epoch 80/100\n",
            "21/21 [==============================] - 0s 4ms/step - loss: 27.0482 - val_loss: 46.7568\n",
            "Epoch 81/100\n",
            "21/21 [==============================] - 0s 4ms/step - loss: 25.0206 - val_loss: 79.1305\n",
            "Epoch 82/100\n",
            "21/21 [==============================] - 0s 5ms/step - loss: 16.3066 - val_loss: 27.0183\n",
            "Epoch 83/100\n",
            "21/21 [==============================] - 0s 4ms/step - loss: 17.4503 - val_loss: 84.9213\n",
            "Epoch 84/100\n",
            "21/21 [==============================] - 0s 4ms/step - loss: 44.7185 - val_loss: 34.8247\n",
            "Epoch 85/100\n",
            "21/21 [==============================] - 0s 4ms/step - loss: 23.3600 - val_loss: 22.6537\n",
            "Epoch 86/100\n",
            "21/21 [==============================] - 0s 4ms/step - loss: 38.4470 - val_loss: 20.7776\n",
            "Epoch 87/100\n",
            "21/21 [==============================] - 0s 4ms/step - loss: 19.6112 - val_loss: 25.0543\n",
            "Epoch 88/100\n",
            "21/21 [==============================] - 0s 4ms/step - loss: 17.6422 - val_loss: 33.3753\n",
            "Epoch 89/100\n",
            "21/21 [==============================] - 0s 4ms/step - loss: 21.1756 - val_loss: 30.4643\n",
            "Epoch 90/100\n",
            "21/21 [==============================] - 0s 4ms/step - loss: 15.4941 - val_loss: 67.0027\n",
            "Epoch 91/100\n",
            "21/21 [==============================] - 0s 4ms/step - loss: 16.9377 - val_loss: 35.7693\n",
            "Epoch 92/100\n",
            "21/21 [==============================] - 0s 4ms/step - loss: 14.3810 - val_loss: 29.6572\n",
            "Epoch 93/100\n",
            "21/21 [==============================] - 0s 4ms/step - loss: 14.3691 - val_loss: 36.7390\n",
            "Epoch 94/100\n",
            "21/21 [==============================] - 0s 4ms/step - loss: 13.8472 - val_loss: 51.9309\n",
            "Epoch 95/100\n",
            "21/21 [==============================] - 0s 4ms/step - loss: 17.5505 - val_loss: 36.2495\n",
            "Epoch 96/100\n",
            "21/21 [==============================] - 0s 4ms/step - loss: 15.0261 - val_loss: 42.9909\n",
            "Epoch 97/100\n",
            "21/21 [==============================] - 0s 4ms/step - loss: 15.5625 - val_loss: 50.8503\n",
            "Epoch 98/100\n",
            "21/21 [==============================] - 0s 4ms/step - loss: 18.1789 - val_loss: 33.8981\n",
            "Epoch 99/100\n",
            "21/21 [==============================] - 0s 4ms/step - loss: 16.0405 - val_loss: 30.6012\n",
            "Epoch 100/100\n",
            "21/21 [==============================] - 0s 4ms/step - loss: 16.1310 - val_loss: 38.5005\n"
          ],
          "name": "stdout"
        }
      ]
    },
    {
      "cell_type": "code",
      "metadata": {
        "colab": {
          "base_uri": "https://localhost:8080/",
          "height": 295
        },
        "id": "NORCVpmfGhqr",
        "outputId": "b086de3a-a3f5-402a-bbae-4712bf22cf11"
      },
      "source": [
        "import matplotlib.pyplot as plt\r\n",
        "plt.plot(history.history['loss'])\r\n",
        "plt.plot(history.history['val_loss'])\r\n",
        "plt.title('Model Loss')\r\n",
        "plt.ylabel('Loss')\r\n",
        "plt.xlabel('Epoch')\r\n",
        "plt.legend(['Train', 'Validation'], loc='upper left', bbox_to_anchor=(1,1))\r\n",
        "plt.show()"
      ],
      "execution_count": 28,
      "outputs": [
        {
          "output_type": "display_data",
          "data": {
            "image/png": "[encoded data removed]",
            "text/plain": [
              "<Figure size 432x288 with 1 Axes>"
            ]
          },
          "metadata": {
            "tags": [],
            "needs_background": "light"
          }
        }
      ]
    },
    {
      "cell_type": "code",
      "metadata": {
        "colab": {
          "base_uri": "https://localhost:8080/"
        },
        "id": "EzZPADFeGhtg",
        "outputId": "4474371d-8f8c-4516-a804-bbfeebd82ec1"
      },
      "source": [
        "history = model.fit(X_train,y_train, epochs=100, batch_size=20, verbose=1)"
      ],
      "execution_count": 29,
      "outputs": [
        {
          "output_type": "stream",
          "text": [
            "Epoch 1/100\n",
            "18/18 [==============================] - 0s 2ms/step - loss: 327.4050\n",
            "Epoch 2/100\n",
            "18/18 [==============================] - 0s 2ms/step - loss: 83.6964\n",
            "Epoch 3/100\n",
            "18/18 [==============================] - 0s 2ms/step - loss: 30.9376\n",
            "Epoch 4/100\n",
            "18/18 [==============================] - 0s 1ms/step - loss: 22.3955\n",
            "Epoch 5/100\n",
            "18/18 [==============================] - 0s 2ms/step - loss: 17.9035\n",
            "Epoch 6/100\n",
            "18/18 [==============================] - 0s 2ms/step - loss: 16.3098\n",
            "Epoch 7/100\n",
            "18/18 [==============================] - 0s 2ms/step - loss: 15.1666\n",
            "Epoch 8/100\n",
            "18/18 [==============================] - 0s 2ms/step - loss: 14.3188\n",
            "Epoch 9/100\n",
            "18/18 [==============================] - 0s 2ms/step - loss: 13.5349\n",
            "Epoch 10/100\n",
            "18/18 [==============================] - 0s 2ms/step - loss: 13.2458\n",
            "Epoch 11/100\n",
            "18/18 [==============================] - 0s 2ms/step - loss: 12.4497\n",
            "Epoch 12/100\n",
            "18/18 [==============================] - 0s 2ms/step - loss: 12.1184\n",
            "Epoch 13/100\n",
            "18/18 [==============================] - 0s 1ms/step - loss: 11.8569\n",
            "Epoch 14/100\n",
            "18/18 [==============================] - 0s 2ms/step - loss: 11.3515\n",
            "Epoch 15/100\n",
            "18/18 [==============================] - 0s 2ms/step - loss: 11.3347\n",
            "Epoch 16/100\n",
            "18/18 [==============================] - 0s 2ms/step - loss: 10.9319\n",
            "Epoch 17/100\n",
            "18/18 [==============================] - 0s 2ms/step - loss: 10.7396\n",
            "Epoch 18/100\n",
            "18/18 [==============================] - 0s 2ms/step - loss: 10.5736\n",
            "Epoch 19/100\n",
            "18/18 [==============================] - 0s 2ms/step - loss: 10.3984\n",
            "Epoch 20/100\n",
            "18/18 [==============================] - 0s 2ms/step - loss: 10.3073\n",
            "Epoch 21/100\n",
            "18/18 [==============================] - 0s 2ms/step - loss: 9.8918\n",
            "Epoch 22/100\n",
            "18/18 [==============================] - 0s 2ms/step - loss: 9.7139\n",
            "Epoch 23/100\n",
            "18/18 [==============================] - 0s 2ms/step - loss: 9.4540\n",
            "Epoch 24/100\n",
            "18/18 [==============================] - 0s 2ms/step - loss: 9.3725\n",
            "Epoch 25/100\n",
            "18/18 [==============================] - 0s 2ms/step - loss: 9.1083\n",
            "Epoch 26/100\n",
            "18/18 [==============================] - 0s 2ms/step - loss: 9.0192\n",
            "Epoch 27/100\n",
            "18/18 [==============================] - 0s 2ms/step - loss: 9.0327\n",
            "Epoch 28/100\n",
            "18/18 [==============================] - 0s 2ms/step - loss: 8.7308\n",
            "Epoch 29/100\n",
            "18/18 [==============================] - 0s 2ms/step - loss: 8.6636\n",
            "Epoch 30/100\n",
            "18/18 [==============================] - 0s 2ms/step - loss: 8.6380\n",
            "Epoch 31/100\n",
            "18/18 [==============================] - 0s 2ms/step - loss: 8.2027\n",
            "Epoch 32/100\n",
            "18/18 [==============================] - 0s 2ms/step - loss: 8.0519\n",
            "Epoch 33/100\n",
            "18/18 [==============================] - 0s 2ms/step - loss: 7.9582\n",
            "Epoch 34/100\n",
            "18/18 [==============================] - 0s 2ms/step - loss: 7.9956\n",
            "Epoch 35/100\n",
            "18/18 [==============================] - 0s 2ms/step - loss: 8.2020\n",
            "Epoch 36/100\n",
            "18/18 [==============================] - 0s 2ms/step - loss: 7.5640\n",
            "Epoch 37/100\n",
            "18/18 [==============================] - 0s 2ms/step - loss: 7.5758\n",
            "Epoch 38/100\n",
            "18/18 [==============================] - 0s 2ms/step - loss: 7.5643\n",
            "Epoch 39/100\n",
            "18/18 [==============================] - 0s 2ms/step - loss: 7.3240\n",
            "Epoch 40/100\n",
            "18/18 [==============================] - 0s 2ms/step - loss: 7.3313\n",
            "Epoch 41/100\n",
            "18/18 [==============================] - 0s 2ms/step - loss: 7.1375\n",
            "Epoch 42/100\n",
            "18/18 [==============================] - 0s 2ms/step - loss: 6.9638\n",
            "Epoch 43/100\n",
            "18/18 [==============================] - 0s 2ms/step - loss: 7.0293\n",
            "Epoch 44/100\n",
            "18/18 [==============================] - 0s 2ms/step - loss: 6.9177\n",
            "Epoch 45/100\n",
            "18/18 [==============================] - 0s 2ms/step - loss: 6.6209\n",
            "Epoch 46/100\n",
            "18/18 [==============================] - 0s 2ms/step - loss: 6.7109\n",
            "Epoch 47/100\n",
            "18/18 [==============================] - 0s 2ms/step - loss: 6.6767\n",
            "Epoch 48/100\n",
            "18/18 [==============================] - 0s 2ms/step - loss: 6.9107\n",
            "Epoch 49/100\n",
            "18/18 [==============================] - 0s 2ms/step - loss: 6.4538\n",
            "Epoch 50/100\n",
            "18/18 [==============================] - 0s 2ms/step - loss: 6.3771\n",
            "Epoch 51/100\n",
            "18/18 [==============================] - 0s 2ms/step - loss: 6.3550\n",
            "Epoch 52/100\n",
            "18/18 [==============================] - 0s 2ms/step - loss: 6.1667\n",
            "Epoch 53/100\n",
            "18/18 [==============================] - 0s 2ms/step - loss: 6.1549\n",
            "Epoch 54/100\n",
            "18/18 [==============================] - 0s 2ms/step - loss: 5.9456\n",
            "Epoch 55/100\n",
            "18/18 [==============================] - 0s 2ms/step - loss: 5.9569\n",
            "Epoch 56/100\n",
            "18/18 [==============================] - 0s 2ms/step - loss: 6.1955\n",
            "Epoch 57/100\n",
            "18/18 [==============================] - 0s 2ms/step - loss: 5.9861\n",
            "Epoch 58/100\n",
            "18/18 [==============================] - 0s 2ms/step - loss: 5.9184\n",
            "Epoch 59/100\n",
            "18/18 [==============================] - 0s 2ms/step - loss: 5.6347\n",
            "Epoch 60/100\n",
            "18/18 [==============================] - 0s 2ms/step - loss: 5.5026\n",
            "Epoch 61/100\n",
            "18/18 [==============================] - 0s 3ms/step - loss: 5.5703\n",
            "Epoch 62/100\n",
            "18/18 [==============================] - 0s 2ms/step - loss: 5.4660\n",
            "Epoch 63/100\n",
            "18/18 [==============================] - 0s 2ms/step - loss: 5.3498\n",
            "Epoch 64/100\n",
            "18/18 [==============================] - 0s 2ms/step - loss: 5.2421\n",
            "Epoch 65/100\n",
            "18/18 [==============================] - 0s 2ms/step - loss: 5.4356\n",
            "Epoch 66/100\n",
            "18/18 [==============================] - 0s 2ms/step - loss: 5.4926\n",
            "Epoch 67/100\n",
            "18/18 [==============================] - 0s 2ms/step - loss: 5.0660\n",
            "Epoch 68/100\n",
            "18/18 [==============================] - 0s 2ms/step - loss: 4.9965\n",
            "Epoch 69/100\n",
            "18/18 [==============================] - 0s 2ms/step - loss: 4.9407\n",
            "Epoch 70/100\n",
            "18/18 [==============================] - 0s 2ms/step - loss: 5.0389\n",
            "Epoch 71/100\n",
            "18/18 [==============================] - 0s 2ms/step - loss: 4.8112\n",
            "Epoch 72/100\n",
            "18/18 [==============================] - 0s 2ms/step - loss: 4.9888\n",
            "Epoch 73/100\n",
            "18/18 [==============================] - 0s 2ms/step - loss: 4.7628\n",
            "Epoch 74/100\n",
            "18/18 [==============================] - 0s 1ms/step - loss: 4.7508\n",
            "Epoch 75/100\n",
            "18/18 [==============================] - 0s 2ms/step - loss: 4.8446\n",
            "Epoch 76/100\n",
            "18/18 [==============================] - 0s 2ms/step - loss: 4.5392\n",
            "Epoch 77/100\n",
            "18/18 [==============================] - 0s 2ms/step - loss: 4.5378\n",
            "Epoch 78/100\n",
            "18/18 [==============================] - 0s 2ms/step - loss: 4.6134\n",
            "Epoch 79/100\n",
            "18/18 [==============================] - 0s 2ms/step - loss: 4.6272\n",
            "Epoch 80/100\n",
            "18/18 [==============================] - 0s 2ms/step - loss: 4.5104\n",
            "Epoch 81/100\n",
            "18/18 [==============================] - 0s 2ms/step - loss: 4.6216\n",
            "Epoch 82/100\n",
            "18/18 [==============================] - 0s 2ms/step - loss: 4.5676\n",
            "Epoch 83/100\n",
            "18/18 [==============================] - 0s 2ms/step - loss: 4.2807\n",
            "Epoch 84/100\n",
            "18/18 [==============================] - 0s 2ms/step - loss: 4.1645\n",
            "Epoch 85/100\n",
            "18/18 [==============================] - 0s 2ms/step - loss: 4.1303\n",
            "Epoch 86/100\n",
            "18/18 [==============================] - 0s 2ms/step - loss: 4.2294\n",
            "Epoch 87/100\n",
            "18/18 [==============================] - 0s 2ms/step - loss: 4.1146\n",
            "Epoch 88/100\n",
            "18/18 [==============================] - 0s 2ms/step - loss: 4.0821\n",
            "Epoch 89/100\n",
            "18/18 [==============================] - 0s 2ms/step - loss: 3.9913\n",
            "Epoch 90/100\n",
            "18/18 [==============================] - 0s 1ms/step - loss: 4.0505\n",
            "Epoch 91/100\n",
            "18/18 [==============================] - 0s 2ms/step - loss: 3.9744\n",
            "Epoch 92/100\n",
            "18/18 [==============================] - 0s 2ms/step - loss: 4.0456\n",
            "Epoch 93/100\n",
            "18/18 [==============================] - 0s 2ms/step - loss: 3.9100\n",
            "Epoch 94/100\n",
            "18/18 [==============================] - 0s 2ms/step - loss: 3.8367\n",
            "Epoch 95/100\n",
            "18/18 [==============================] - 0s 2ms/step - loss: 3.8574\n",
            "Epoch 96/100\n",
            "18/18 [==============================] - 0s 2ms/step - loss: 3.8237\n",
            "Epoch 97/100\n",
            "18/18 [==============================] - 0s 2ms/step - loss: 3.8164\n",
            "Epoch 98/100\n",
            "18/18 [==============================] - 0s 2ms/step - loss: 3.6807\n",
            "Epoch 99/100\n",
            "18/18 [==============================] - 0s 2ms/step - loss: 3.7274\n",
            "Epoch 100/100\n",
            "18/18 [==============================] - 0s 2ms/step - loss: 3.6795\n"
          ],
          "name": "stdout"
        }
      ]
    },
    {
      "cell_type": "code",
      "metadata": {
        "id": "dD44jn-JGhwm"
      },
      "source": [
        "#Prediction on the test dataset\r\n",
        "y_pred = model.predict(X_test)"
      ],
      "execution_count": 31,
      "outputs": []
    },
    {
      "cell_type": "code",
      "metadata": {
        "colab": {
          "base_uri": "https://localhost:8080/"
        },
        "id": "-9uXT8L3GhzX",
        "outputId": "b82ba09f-1adb-4338-8638-8264394be662"
      },
      "source": [
        "from sklearn.metrics import mean_squared_error\r\n",
        "rmse = (np.sqrt(mean_squared_error(y_test, y_pred)))\r\n",
        "print(rmse)"
      ],
      "execution_count": 32,
      "outputs": [
        {
          "output_type": "stream",
          "text": [
            "3.2807444160375603\n"
          ],
          "name": "stdout"
        }
      ]
    },
    {
      "cell_type": "code",
      "metadata": {
        "id": "ciz0t8ymKQFX"
      },
      "source": [
        "import tensorflow as tf"
      ],
      "execution_count": 34,
      "outputs": []
    },
    {
      "cell_type": "code",
      "metadata": {
        "id": "3i4QwkgHGh2C"
      },
      "source": [
        "mse =tf.keras.losses.MSE(\r\n",
        "    y_test, y_pred\r\n",
        ")"
      ],
      "execution_count": 36,
      "outputs": []
    },
    {
      "cell_type": "code",
      "metadata": {
        "colab": {
          "base_uri": "https://localhost:8080/"
        },
        "id": "5r3PPvorGh5J",
        "outputId": "3506b486-3e42-4d3f-944e-9528f52fc4df"
      },
      "source": [
        "print(mse)"
      ],
      "execution_count": 37,
      "outputs": [
        {
          "output_type": "stream",
          "text": [
            "tf.Tensor(\n",
            "[ 90.990105 251.73198   99.37507   77.66023  100.17323   80.04697\n",
            "  79.81105   94.677414  94.54874   77.34339   80.466255  77.7498\n",
            " 368.55978   84.12882   87.085396  75.68235   76.65228  196.99231\n",
            " 701.4935   137.86224   90.81199  101.59667  124.219635  74.78387\n",
            " 102.92411   92.66296   79.55725  154.69194   75.170105  80.85214\n",
            "  78.91585   77.18495   89.7486    91.424545 116.076096  91.48593\n",
            " 179.81424   74.54757   74.53083   79.45304   94.06362  122.40178\n",
            " 912.7167    95.96881   84.54924  111.642426 114.41528   88.366356\n",
            "  79.21529   85.09474   77.3658   267.8662    88.41538   83.83753\n",
            " 569.315     76.14398  104.18232  237.40816   86.597595 114.9437\n",
            " 104.150055 253.52382  190.67169   88.584656  76.1241    82.19912\n",
            " 116.31453   80.61638  149.71619  117.65721   76.10592  117.855\n",
            " 244.63641   74.80929   76.19657  297.9836    76.89986  766.86896\n",
            " 164.97784  193.30112   81.17359  168.78506   82.1809   184.0474\n",
            "  76.11849  111.82909  111.74463   79.86356   85.19822   80.488815\n",
            "  83.58657  289.92426   84.174225  87.946266 356.60605   78.60901\n",
            " 187.84462  249.12617  168.28357  183.55843   80.56312   76.280815\n",
            " 211.32735   85.85506   88.66147  188.3334    87.10963   92.25645\n",
            "  76.892166  81.143295 257.55673  151.70747   80.81476  108.93618\n",
            " 147.47484  126.01069  356.83908  131.64131   74.58344   86.46685\n",
            " 115.385254  93.38584  372.52808   76.59841   85.28899   76.212875\n",
            "  82.44791  193.36162  180.31612  590.02496   94.230034  75.74167\n",
            "  96.23118   78.60975  136.99467   74.51489   78.24007  183.679\n",
            " 140.28226   94.84803   91.00992   82.09807   79.45252   84.01348\n",
            " 307.78473   74.82852  135.34268  157.23166  106.58586  794.4667\n",
            " 108.210785 122.66252 ], shape=(152,), dtype=float32)\n"
          ],
          "name": "stdout"
        }
      ]
    },
    {
      "cell_type": "code",
      "metadata": {
        "colab": {
          "base_uri": "https://localhost:8080/"
        },
        "id": "mNkQNLPNGh7f",
        "outputId": "1f0d444b-15d1-4a96-bab4-2d228599ed00"
      },
      "source": [
        "from sklearn.metrics import r2_score\r\n",
        "r2 = r2_score(y_test, y_pred)\r\n",
        "print(r2)"
      ],
      "execution_count": 38,
      "outputs": [
        {
          "output_type": "stream",
          "text": [
            "0.8555517813166363\n"
          ],
          "name": "stdout"
        }
      ]
    },
    {
      "cell_type": "code",
      "metadata": {
        "id": "OQOkazovKeAD"
      },
      "source": [
        ""
      ],
      "execution_count": null,
      "outputs": []
    },
    {
      "cell_type": "code",
      "metadata": {
        "id": "TXnk_RTvKeDj"
      },
      "source": [
        ""
      ],
      "execution_count": null,
      "outputs": []
    },
    {
      "cell_type": "code",
      "metadata": {
        "id": "fdLSS_k2Gh-W"
      },
      "source": [
        ""
      ],
      "execution_count": null,
      "outputs": []
    },
    {
      "cell_type": "code",
      "metadata": {
        "id": "pDbDFWhwGiBP"
      },
      "source": [
        ""
      ],
      "execution_count": null,
      "outputs": []
    },
    {
      "cell_type": "code",
      "metadata": {
        "id": "eDlbzhP-GiDz"
      },
      "source": [
        ""
      ],
      "execution_count": null,
      "outputs": []
    },
    {
      "cell_type": "code",
      "metadata": {
        "id": "ejmriMyJGiHU"
      },
      "source": [
        ""
      ],
      "execution_count": null,
      "outputs": []
    }
  ]
}