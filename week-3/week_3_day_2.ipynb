{
  "nbformat": 4,
  "nbformat_minor": 0,
  "metadata": {
    "colab": {
      "name": "week-3 day-2.ipynb",
      "provenance": []
    },
    "kernelspec": {
      "name": "python3",
      "display_name": "Python 3"
    }
  },
  "cells": [
    {
      "cell_type": "code",
      "metadata": {
        "id": "GsZMZJ-5Mb9A"
      },
      "source": [
        "import numpy as np\r\n",
        "vec1 = np.random.randint(0, 100, size =50)"
      ],
      "execution_count": 8,
      "outputs": []
    },
    {
      "cell_type": "code",
      "metadata": {
        "colab": {
          "base_uri": "https://localhost:8080/"
        },
        "id": "dQGBkhJ5McYb",
        "outputId": "46a337fd-6bbb-4ce7-fa1a-b96c91f8e197"
      },
      "source": [
        "vec1"
      ],
      "execution_count": 9,
      "outputs": [
        {
          "output_type": "execute_result",
          "data": {
            "text/plain": [
              "array([24, 76, 39, 88, 49, 75, 79, 14, 40,  9, 69, 36,  8, 61, 35, 80, 44,\n",
              "        1, 25, 87, 22, 88, 28, 89, 78, 54, 71, 85, 31, 43, 75, 92, 51, 97,\n",
              "       25, 32, 11, 51, 88, 28, 28, 50, 77,  3, 42, 31, 36, 69, 91, 79])"
            ]
          },
          "metadata": {
            "tags": []
          },
          "execution_count": 9
        }
      ]
    },
    {
      "cell_type": "code",
      "metadata": {
        "colab": {
          "base_uri": "https://localhost:8080/"
        },
        "id": "Iscqu89kMca4",
        "outputId": "342d72a8-d2e0-4fcb-e1d2-bc6248403448"
      },
      "source": [
        "from numpy.linalg import norm \r\n",
        "l1 = norm(vec1,1)\r\n",
        "print(l1)"
      ],
      "execution_count": 10,
      "outputs": [
        {
          "output_type": "stream",
          "text": [
            "2584.0\n"
          ],
          "name": "stdout"
        }
      ]
    },
    {
      "cell_type": "code",
      "metadata": {
        "colab": {
          "base_uri": "https://localhost:8080/"
        },
        "id": "F0LAjaAOMcdV",
        "outputId": "93da6163-79f7-4734-a149-6713a3e5464c"
      },
      "source": [
        "l2 = norm(vec1,2)\r\n",
        "print(l2)"
      ],
      "execution_count": 11,
      "outputs": [
        {
          "output_type": "stream",
          "text": [
            "414.59860105890374\n"
          ],
          "name": "stdout"
        }
      ]
    },
    {
      "cell_type": "code",
      "metadata": {
        "id": "ELZP_VdNPh3U"
      },
      "source": [
        "#2x + 5y = 20 and 3x+6y =12."
      ],
      "execution_count": null,
      "outputs": []
    },
    {
      "cell_type": "code",
      "metadata": {
        "id": "Ejenzh5XPh6v"
      },
      "source": [
        "a = np.array([[2,5],[3,6]])"
      ],
      "execution_count": 13,
      "outputs": []
    },
    {
      "cell_type": "code",
      "metadata": {
        "id": "rBIf8MP7McgB"
      },
      "source": [
        "b= np.array([20,12])"
      ],
      "execution_count": 15,
      "outputs": []
    },
    {
      "cell_type": "code",
      "metadata": {
        "id": "y0SUqjuLMcix"
      },
      "source": [
        "sol = np.linalg.solve(a, b)"
      ],
      "execution_count": 16,
      "outputs": []
    },
    {
      "cell_type": "code",
      "metadata": {
        "colab": {
          "base_uri": "https://localhost:8080/"
        },
        "id": "3uhC8YcwMclM",
        "outputId": "d671cb54-5be9-4278-a289-b7fc1d88764d"
      },
      "source": [
        "sol"
      ],
      "execution_count": 17,
      "outputs": [
        {
          "output_type": "execute_result",
          "data": {
            "text/plain": [
              "array([-20.,  12.])"
            ]
          },
          "metadata": {
            "tags": []
          },
          "execution_count": 17
        }
      ]
    },
    {
      "cell_type": "code",
      "metadata": {
        "id": "G9Kmsag-McoD"
      },
      "source": [
        "# import numpy as np \r\n",
        "  \r\n",
        "\r\n",
        "# u = np.random.randint(0, 10, size =10)\r\n",
        "\r\n",
        "# v = np.random.randint(0, 10, size =10)     \r\n",
        "\r\n",
        "  \r\n",
        " \r\n",
        "# v_norm = np.sqrt(sum(v**2))     \r\n",
        " \r\n",
        "# u_norm = np.sqrt(sum(u**2))    \r\n",
        "# # Apply the formula as mentioned above \r\n",
        "# # for projecting a vector onto the orthogonal vector n \r\n",
        "# # find dot product using np.dot() \r\n",
        "# proj_u_on_v = (np.dot(u, v)/v_norm**2)*v"
      ],
      "execution_count": 22,
      "outputs": []
    },
    {
      "cell_type": "code",
      "metadata": {
        "colab": {
          "base_uri": "https://localhost:8080/"
        },
        "id": "zGLzy6iuMcqp",
        "outputId": "44ebebab-bf50-4c38-c8eb-a87cd379171b"
      },
      "source": [
        "# proj_u_on_v"
      ],
      "execution_count": 24,
      "outputs": [
        {
          "output_type": "execute_result",
          "data": {
            "text/plain": [
              "array([3.15555556, 3.68148148, 4.20740741, 0.52592593, 4.20740741,\n",
              "       1.05185185, 0.        , 0.        , 2.1037037 , 3.15555556])"
            ]
          },
          "metadata": {
            "tags": []
          },
          "execution_count": 24
        }
      ]
    },
    {
      "cell_type": "code",
      "metadata": {
        "id": "eHvxXOQEMctg"
      },
      "source": [
        "# proj_v_on_u = (np.dot(u, v)/u_norm**2)*u"
      ],
      "execution_count": 23,
      "outputs": []
    },
    {
      "cell_type": "code",
      "metadata": {
        "colab": {
          "base_uri": "https://localhost:8080/"
        },
        "id": "JTMzuj4CMcwC",
        "outputId": "f8ce0613-fc15-453c-892c-d14320585a97"
      },
      "source": [
        "# proj_v_on_u"
      ],
      "execution_count": 25,
      "outputs": [
        {
          "output_type": "execute_result",
          "data": {
            "text/plain": [
              "array([0.        , 6.35820896, 0.        , 2.11940299, 3.53233831,\n",
              "       1.41293532, 4.94527363, 1.41293532, 3.53233831, 1.41293532])"
            ]
          },
          "metadata": {
            "tags": []
          },
          "execution_count": 25
        }
      ]
    },
    {
      "cell_type": "code",
      "metadata": {
        "id": "OBgUabpMSYf6"
      },
      "source": [
        "\r\n",
        "u = np.random.randint(0, 10, size =10)\r\n",
        "\r\n",
        "v = np.random.randint(0, 10, size =10)    "
      ],
      "execution_count": 29,
      "outputs": []
    },
    {
      "cell_type": "code",
      "metadata": {
        "colab": {
          "base_uri": "https://localhost:8080/"
        },
        "id": "OKqg2eipMcyx",
        "outputId": "6590644d-6d4b-4603-bf7a-659a53ee8b7b"
      },
      "source": [
        "np.dot(u, v) / np.linalg.norm(v)"
      ],
      "execution_count": 30,
      "outputs": [
        {
          "output_type": "execute_result",
          "data": {
            "text/plain": [
              "8.832373991453812"
            ]
          },
          "metadata": {
            "tags": []
          },
          "execution_count": 30
        }
      ]
    },
    {
      "cell_type": "code",
      "metadata": {
        "colab": {
          "base_uri": "https://localhost:8080/"
        },
        "id": "zQhIpO5IMc1Y",
        "outputId": "a5edd836-9b07-4d1a-dbb2-2024355227c5"
      },
      "source": [
        "np.dot(u,v) / np.linalg.norm(u)"
      ],
      "execution_count": 31,
      "outputs": [
        {
          "output_type": "execute_result",
          "data": {
            "text/plain": [
              "9.205497078951698"
            ]
          },
          "metadata": {
            "tags": []
          },
          "execution_count": 31
        }
      ]
    },
    {
      "cell_type": "code",
      "metadata": {
        "id": "q8DsEgVnMc4H"
      },
      "source": [
        ""
      ],
      "execution_count": null,
      "outputs": []
    },
    {
      "cell_type": "code",
      "metadata": {
        "id": "_ZF862clMc6n"
      },
      "source": [
        ""
      ],
      "execution_count": null,
      "outputs": []
    },
    {
      "cell_type": "code",
      "metadata": {
        "id": "2Gln-fGEMc9E"
      },
      "source": [
        ""
      ],
      "execution_count": null,
      "outputs": []
    },
    {
      "cell_type": "code",
      "metadata": {
        "id": "EqN0RWcCMc_v"
      },
      "source": [
        ""
      ],
      "execution_count": null,
      "outputs": []
    },
    {
      "cell_type": "code",
      "metadata": {
        "id": "MdMGuul_MdCd"
      },
      "source": [
        ""
      ],
      "execution_count": null,
      "outputs": []
    },
    {
      "cell_type": "code",
      "metadata": {
        "id": "SaSrnnZ9MdE4"
      },
      "source": [
        ""
      ],
      "execution_count": null,
      "outputs": []
    },
    {
      "cell_type": "code",
      "metadata": {
        "id": "jMk27YZgMdHh"
      },
      "source": [
        ""
      ],
      "execution_count": null,
      "outputs": []
    },
    {
      "cell_type": "code",
      "metadata": {
        "id": "lBtQ_Vf6MdLC"
      },
      "source": [
        ""
      ],
      "execution_count": null,
      "outputs": []
    }
  ]
}