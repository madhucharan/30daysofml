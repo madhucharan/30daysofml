{
  "nbformat": 4,
  "nbformat_minor": 0,
  "metadata": {
    "colab": {
      "name": "day-2.ipynb",
      "provenance": []
    },
    "kernelspec": {
      "name": "python3",
      "display_name": "Python 3"
    }
  },
  "cells": [
    {
      "cell_type": "code",
      "metadata": {
        "id": "DAVWhX1bY4xd"
      },
      "source": [
        "import numpy as np"
      ],
      "execution_count": 1,
      "outputs": []
    },
    {
      "cell_type": "code",
      "metadata": {
        "id": "K3wlgSF_Y5O0"
      },
      "source": [
        "def create_array(num_list):\r\n",
        "  # num_list.reverse()\r\n",
        "  return np.array([num_list[::-1 ]],dtype='float')"
      ],
      "execution_count": 17,
      "outputs": []
    },
    {
      "cell_type": "code",
      "metadata": {
        "colab": {
          "base_uri": "https://localhost:8080/"
        },
        "id": "5Qb9nyNbY5Sj",
        "outputId": "0e8956ec-9f0c-4ee2-cd1d-09ae774ba7e1"
      },
      "source": [
        "print(create_array([1,2,3,4,5,6]))"
      ],
      "execution_count": 18,
      "outputs": [
        {
          "output_type": "stream",
          "text": [
            "[[6. 5. 4. 3. 2. 1.]]\n"
          ],
          "name": "stdout"
        }
      ]
    },
    {
      "cell_type": "code",
      "metadata": {
        "colab": {
          "base_uri": "https://localhost:8080/"
        },
        "id": "55pdoX1XY5T3",
        "outputId": "e9aba785-5cc1-4747-9a50-6a332047f71a"
      },
      "source": [
        "#creating a 4*3 random matrix\r\n",
        "random_arr = np.random.rand(4,3)\r\n",
        "print(random_arr)"
      ],
      "execution_count": 19,
      "outputs": [
        {
          "output_type": "stream",
          "text": [
            "[[0.10432704 0.36440581 0.37610462]\n",
            " [0.67070083 0.93011379 0.06294105]\n",
            " [0.06286891 0.92383013 0.01216073]\n",
            " [0.22556533 0.24175769 0.01519712]]\n"
          ],
          "name": "stdout"
        }
      ]
    },
    {
      "cell_type": "code",
      "metadata": {
        "colab": {
          "base_uri": "https://localhost:8080/"
        },
        "id": "x6-BPmc1Y5W6",
        "outputId": "5cdae1d1-3f98-4d95-be9c-9ff812ae1bc1"
      },
      "source": [
        "reshaped_arr= random_arr.reshape(2,6)\r\n",
        "print(reshaped_arr)"
      ],
      "execution_count": 21,
      "outputs": [
        {
          "output_type": "stream",
          "text": [
            "[[0.10432704 0.36440581 0.37610462 0.67070083 0.93011379 0.06294105]\n",
            " [0.06286891 0.92383013 0.01216073 0.22556533 0.24175769 0.01519712]]\n"
          ],
          "name": "stdout"
        }
      ]
    },
    {
      "cell_type": "code",
      "metadata": {
        "colab": {
          "base_uri": "https://localhost:8080/"
        },
        "id": "xcDclmU4Y5ZW",
        "outputId": "b1e7ac20-9c6e-4f52-9b58-08dd9d6210b0"
      },
      "source": [
        "# creating two integrer matrices\r\n",
        "\r\n",
        "int_arr1=np.random.randint(1,10,size=(3,5))\r\n",
        "int_arr2=np.random.randint(1,10,size=(7,5))\r\n",
        "\r\n",
        "print(\"Array 1 \",int_arr1)\r\n",
        "print(\"Array 2 \",int_arr2)"
      ],
      "execution_count": 26,
      "outputs": [
        {
          "output_type": "stream",
          "text": [
            "Array 1  [[9 2 3 7 1]\n",
            " [1 1 3 3 7]\n",
            " [1 6 6 4 7]]\n",
            "Array 2  [[7 8 8 3 5]\n",
            " [8 2 7 5 7]\n",
            " [6 4 7 8 6]\n",
            " [6 7 9 5 6]\n",
            " [8 9 6 1 2]\n",
            " [4 7 7 3 9]\n",
            " [6 6 3 9 5]]\n"
          ],
          "name": "stdout"
        }
      ]
    },
    {
      "cell_type": "code",
      "metadata": {
        "colab": {
          "base_uri": "https://localhost:8080/"
        },
        "id": "WlPE7tjzY5cV",
        "outputId": "b6dbc6bb-0804-4d93-cfd4-d1d448c5542d"
      },
      "source": [
        "# concatenate arr1 and arr2\r\n",
        "print( np.concatenate((int_arr1,int_arr2),axis=0))"
      ],
      "execution_count": 27,
      "outputs": [
        {
          "output_type": "stream",
          "text": [
            "[[9 2 3 7 1]\n",
            " [1 1 3 3 7]\n",
            " [1 6 6 4 7]\n",
            " [7 8 8 3 5]\n",
            " [8 2 7 5 7]\n",
            " [6 4 7 8 6]\n",
            " [6 7 9 5 6]\n",
            " [8 9 6 1 2]\n",
            " [4 7 7 3 9]\n",
            " [6 6 3 9 5]]\n"
          ],
          "name": "stdout"
        }
      ]
    },
    {
      "cell_type": "code",
      "metadata": {
        "colab": {
          "base_uri": "https://localhost:8080/"
        },
        "id": "ysUwOTM2Y5e_",
        "outputId": "94f46eba-e4d4-4ece-bcab-caf289693c58"
      },
      "source": [
        "# inner and outer product\r\n",
        "\r\n",
        "print(\"inner product\\n\",np.inner(int_arr1,int_arr2))\r\n",
        "print(\"outer product\\n\",np.outer(int_arr1,int_arr2))"
      ],
      "execution_count": 29,
      "outputs": [
        {
          "output_type": "stream",
          "text": [
            "inner product\n",
            " [[129 139 145 136 117 101 143]\n",
            " [ 83  95  97  97  52 104  83]\n",
            " [150 131 146 164 116 163 131]]\n",
            "outer product\n",
            " [[63 72 72 27 45 72 18 63 45 63 54 36 63 72 54 54 63 81 45 54 72 81 54  9\n",
            "  18 36 63 63 27 81 54 54 27 81 45]\n",
            " [14 16 16  6 10 16  4 14 10 14 12  8 14 16 12 12 14 18 10 12 16 18 12  2\n",
            "   4  8 14 14  6 18 12 12  6 18 10]\n",
            " [21 24 24  9 15 24  6 21 15 21 18 12 21 24 18 18 21 27 15 18 24 27 18  3\n",
            "   6 12 21 21  9 27 18 18  9 27 15]\n",
            " [49 56 56 21 35 56 14 49 35 49 42 28 49 56 42 42 49 63 35 42 56 63 42  7\n",
            "  14 28 49 49 21 63 42 42 21 63 35]\n",
            " [ 7  8  8  3  5  8  2  7  5  7  6  4  7  8  6  6  7  9  5  6  8  9  6  1\n",
            "   2  4  7  7  3  9  6  6  3  9  5]\n",
            " [ 7  8  8  3  5  8  2  7  5  7  6  4  7  8  6  6  7  9  5  6  8  9  6  1\n",
            "   2  4  7  7  3  9  6  6  3  9  5]\n",
            " [ 7  8  8  3  5  8  2  7  5  7  6  4  7  8  6  6  7  9  5  6  8  9  6  1\n",
            "   2  4  7  7  3  9  6  6  3  9  5]\n",
            " [21 24 24  9 15 24  6 21 15 21 18 12 21 24 18 18 21 27 15 18 24 27 18  3\n",
            "   6 12 21 21  9 27 18 18  9 27 15]\n",
            " [21 24 24  9 15 24  6 21 15 21 18 12 21 24 18 18 21 27 15 18 24 27 18  3\n",
            "   6 12 21 21  9 27 18 18  9 27 15]\n",
            " [49 56 56 21 35 56 14 49 35 49 42 28 49 56 42 42 49 63 35 42 56 63 42  7\n",
            "  14 28 49 49 21 63 42 42 21 63 35]\n",
            " [ 7  8  8  3  5  8  2  7  5  7  6  4  7  8  6  6  7  9  5  6  8  9  6  1\n",
            "   2  4  7  7  3  9  6  6  3  9  5]\n",
            " [42 48 48 18 30 48 12 42 30 42 36 24 42 48 36 36 42 54 30 36 48 54 36  6\n",
            "  12 24 42 42 18 54 36 36 18 54 30]\n",
            " [42 48 48 18 30 48 12 42 30 42 36 24 42 48 36 36 42 54 30 36 48 54 36  6\n",
            "  12 24 42 42 18 54 36 36 18 54 30]\n",
            " [28 32 32 12 20 32  8 28 20 28 24 16 28 32 24 24 28 36 20 24 32 36 24  4\n",
            "   8 16 28 28 12 36 24 24 12 36 20]\n",
            " [49 56 56 21 35 56 14 49 35 49 42 28 49 56 42 42 49 63 35 42 56 63 42  7\n",
            "  14 28 49 49 21 63 42 42 21 63 35]]\n"
          ],
          "name": "stdout"
        }
      ]
    },
    {
      "cell_type": "code",
      "metadata": {
        "colab": {
          "base_uri": "https://localhost:8080/"
        },
        "id": "dHGiNH5wY5ht",
        "outputId": "64019c55-6d97-4720-9061-7f16e5a8ae0b"
      },
      "source": [
        "#reversing an array with slicing\r\n",
        "\r\n",
        "print(np.array([1,2,3,4])[::-1])"
      ],
      "execution_count": 30,
      "outputs": [
        {
          "output_type": "stream",
          "text": [
            "[4 3 2 1]\n"
          ],
          "name": "stdout"
        }
      ]
    },
    {
      "cell_type": "code",
      "metadata": {
        "colab": {
          "base_uri": "https://localhost:8080/"
        },
        "id": "2LPSdgZPY5kG",
        "outputId": "c10235a5-dc8f-40b1-cab1-7dd8bdbe718f"
      },
      "source": [
        "#replace row\r\n",
        "arr_rev =np.random.rand(5,5)\r\n",
        "print(arr_rev)\r\n",
        "arr_rev = np.delete(arr_rev, (2), axis=0)\r\n",
        "arr_rev = np.insert(arr_rev, 2, np.nan, axis=0)\r\n",
        "print(\"replaced row array \")\r\n",
        "print(arr_rev)"
      ],
      "execution_count": 44,
      "outputs": [
        {
          "output_type": "stream",
          "text": [
            "[[0.6365121  0.98094809 0.55836937 0.27473749 0.03331816]\n",
            " [0.42457147 0.74498358 0.92390908 0.97597448 0.71964605]\n",
            " [0.12300579 0.74855425 0.38661492 0.12416528 0.90064011]\n",
            " [0.42031523 0.4795452  0.18797515 0.22869019 0.45726678]\n",
            " [0.82762348 0.10043481 0.09940821 0.81096568 0.90894093]]\n",
            "replaced row array \n",
            "[[0.6365121  0.98094809 0.55836937 0.27473749 0.03331816]\n",
            " [0.42457147 0.74498358 0.92390908 0.97597448 0.71964605]\n",
            " [       nan        nan        nan        nan        nan]\n",
            " [0.42031523 0.4795452  0.18797515 0.22869019 0.45726678]\n",
            " [0.82762348 0.10043481 0.09940821 0.81096568 0.90894093]]\n"
          ],
          "name": "stdout"
        }
      ]
    },
    {
      "cell_type": "code",
      "metadata": {
        "colab": {
          "base_uri": "https://localhost:8080/"
        },
        "id": "rqLLLN7GY5nM",
        "outputId": "21116bd7-52ef-45c4-e60c-97022acf1a98"
      },
      "source": [
        "#normalization\r\n",
        "arr_gen=np.random.randint(2,10,size=(5,5))\r\n",
        "print(arr_gen)"
      ],
      "execution_count": 45,
      "outputs": [
        {
          "output_type": "stream",
          "text": [
            "[[2 8 5 2 9]\n",
            " [7 5 5 8 4]\n",
            " [9 4 7 3 2]\n",
            " [3 2 9 3 7]\n",
            " [2 2 5 6 9]]\n"
          ],
          "name": "stdout"
        }
      ]
    },
    {
      "cell_type": "code",
      "metadata": {
        "colab": {
          "base_uri": "https://localhost:8080/"
        },
        "id": "Zp3mGU7uY5pu",
        "outputId": "f7844023-6441-43e8-a99a-0d1f65e1558b"
      },
      "source": [
        "arr_norm = arr_gen/(arr_gen.max()/1)\r\n",
        "print(arr_norm)"
      ],
      "execution_count": 51,
      "outputs": [
        {
          "output_type": "stream",
          "text": [
            "[[0.22222222 0.88888889 0.55555556 0.22222222 1.        ]\n",
            " [0.77777778 0.55555556 0.55555556 0.88888889 0.44444444]\n",
            " [1.         0.44444444 0.77777778 0.33333333 0.22222222]\n",
            " [0.33333333 0.22222222 1.         0.33333333 0.77777778]\n",
            " [0.22222222 0.22222222 0.55555556 0.66666667 1.        ]]\n"
          ],
          "name": "stdout"
        }
      ]
    },
    {
      "cell_type": "code",
      "metadata": {
        "colab": {
          "base_uri": "https://localhost:8080/"
        },
        "id": "ze5x1Lr2Y5sr",
        "outputId": "f32e90e6-9443-4a36-ff2b-d6f6b42544c5"
      },
      "source": [
        "#selecting specific numbers from arr_gen\r\n",
        "\r\n",
        "N= list()\r\n",
        "M=np.random.randint(2,10,size=(5,5))\r\n",
        "(rows,columns)=M.shape\r\n",
        "print(rows,columns)\r\n",
        "for row in range(1,rows,2):\r\n",
        "  # print(row)\r\n",
        "  for column in range(0,columns,2):\r\n",
        "    # print\r\n",
        "    N.append(M[row,column])\r\n",
        "\r\n"
      ],
      "execution_count": 69,
      "outputs": [
        {
          "output_type": "stream",
          "text": [
            "5 5\n"
          ],
          "name": "stdout"
        }
      ]
    },
    {
      "cell_type": "code",
      "metadata": {
        "colab": {
          "base_uri": "https://localhost:8080/"
        },
        "id": "1V5fp5JdY5vG",
        "outputId": "08677f4e-a9dd-4642-a159-6dbfa1d8aaae"
      },
      "source": [
        "print(N)"
      ],
      "execution_count": 70,
      "outputs": [
        {
          "output_type": "stream",
          "text": [
            "[7, 6, 4, 8, 8, 6]\n"
          ],
          "name": "stdout"
        }
      ]
    },
    {
      "cell_type": "code",
      "metadata": {
        "id": "hkpgCHAeY5xX"
      },
      "source": [
        "N=np.array(N,ndmin=2)"
      ],
      "execution_count": 73,
      "outputs": []
    },
    {
      "cell_type": "code",
      "metadata": {
        "colab": {
          "base_uri": "https://localhost:8080/"
        },
        "id": "9YgyeZ5rY50v",
        "outputId": "d2f80645-f042-4cb1-a63d-4a020a859977"
      },
      "source": [
        "print(N.reshape(2,3))"
      ],
      "execution_count": 75,
      "outputs": [
        {
          "output_type": "stream",
          "text": [
            "[[7 6 4]\n",
            " [8 8 6]]\n"
          ],
          "name": "stdout"
        }
      ]
    }
  ]
}